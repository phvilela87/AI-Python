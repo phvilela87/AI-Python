{
 "cells": [
  {
   "cell_type": "markdown",
   "metadata": {},
   "source": [
    "# Exercício 4"
   ]
  },
  {
   "cell_type": "markdown",
   "metadata": {},
   "source": [
    "Para classificar email em spam ou ham são necessários 2 neorônios. A função de ativação utilizada na camada de saída pode ser a função Softmax, que geralmente é muito boa para realizar tarefas de classificação, onde um exemplo pertence somente à uma classe.\n",
    "\n",
    "Para classificar a base de dados MNIST são necessários 10 neurônios, já que a base de dados possui imagens com dígitos de 0 a  9, ou seja, 10 dígitos. A função de ativação utilizada na saída é a função Softmax, ao invés da função de ativação ReLU."
   ]
  }
 ],
 "metadata": {
  "kernelspec": {
   "display_name": "Python 3",
   "language": "python",
   "name": "python3"
  },
  "language_info": {
   "codemirror_mode": {
    "name": "ipython",
    "version": 3
   },
   "file_extension": ".py",
   "mimetype": "text/x-python",
   "name": "python",
   "nbconvert_exporter": "python",
   "pygments_lexer": "ipython3",
   "version": "3.7.3"
  }
 },
 "nbformat": 4,
 "nbformat_minor": 4
}
