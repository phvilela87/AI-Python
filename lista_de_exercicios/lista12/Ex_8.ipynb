{
 "cells": [
  {
   "cell_type": "markdown",
   "metadata": {},
   "source": [
    "# Exercício 8"
   ]
  },
  {
   "cell_type": "code",
   "execution_count": 1,
   "metadata": {},
   "outputs": [],
   "source": [
    "import numpy as np\n",
    "import tensorflow.compat.v1 as tf\n",
    "import tfgraphviz as tfg\n",
    "from keras.layers import Dense\n",
    "from tensorboard import notebook"
   ]
  },
  {
   "cell_type": "code",
   "execution_count": 2,
   "metadata": {},
   "outputs": [
    {
     "name": "stdout",
     "output_type": "stream",
     "text": [
      "WARNING:tensorflow:From /Users/pedro/Library/Python/3.7/lib/python/site-packages/tensorflow/python/compat/v2_compat.py:96: disable_resource_variables (from tensorflow.python.ops.variable_scope) is deprecated and will be removed in a future version.\n",
      "Instructions for updating:\n",
      "non-resource variables are not supported in the long term\n"
     ]
    }
   ],
   "source": [
    "tf.disable_v2_behavior() "
   ]
  },
  {
   "cell_type": "code",
   "execution_count": 3,
   "metadata": {},
   "outputs": [],
   "source": [
    "# to make this notebook's output stable across runs\n",
    "def reset_graph(seed=42):\n",
    "    tf.reset_default_graph()\n",
    "    tf.set_random_seed(seed)\n",
    "    np.random.seed(seed)\n",
    "    \n",
    "def shuffle_batch(X, y, batch_size):\n",
    "    rnd_idx = np.random.permutation(len(X))\n",
    "    n_batches = len(X) // batch_size\n",
    "    for batch_idx in np.array_split(rnd_idx, n_batches):\n",
    "        X_batch, y_batch = X[batch_idx], y[batch_idx]\n",
    "        yield X_batch, y_batch"
   ]
  },
  {
   "cell_type": "code",
   "execution_count": 4,
   "metadata": {},
   "outputs": [],
   "source": [
    "#reset_graph()\n",
    "tf.compat.v1.reset_default_graph()\n",
    "\n",
    "n_inputs = 28*28 # MNIST\n",
    "n_hidden1 = 300\n",
    "n_hidden2 = 100\n",
    "n_outputs = 10"
   ]
  },
  {
   "cell_type": "code",
   "execution_count": 5,
   "metadata": {},
   "outputs": [],
   "source": [
    "(X_train, y_train), (X_test, y_test) = tf.keras.datasets.mnist.load_data()\n",
    "X_train = X_train.astype(np.float32).reshape(-1, 28*28) / 255.0\n",
    "X_test = X_test.astype(np.float32).reshape(-1, 28*28) / 255.0\n",
    "y_train = y_train.astype(np.int32)\n",
    "y_test = y_test.astype(np.int32)\n",
    "X_valid, X_train = X_train[:5000], X_train[5000:]\n",
    "y_valid, y_train = y_train[:5000], y_train[5000:]"
   ]
  },
  {
   "cell_type": "code",
   "execution_count": 6,
   "metadata": {},
   "outputs": [
    {
     "name": "stdout",
     "output_type": "stream",
     "text": [
      "WARNING:tensorflow:From <ipython-input-6-0ed319303042>:5: dense (from tensorflow.python.layers.core) is deprecated and will be removed in a future version.\n",
      "Instructions for updating:\n",
      "Use keras.layers.Dense instead.\n",
      "WARNING:tensorflow:From /Users/pedro/Library/Python/3.7/lib/python/site-packages/tensorflow/python/layers/core.py:187: Layer.apply (from tensorflow.python.keras.engine.base_layer_v1) is deprecated and will be removed in a future version.\n",
      "Instructions for updating:\n",
      "Please use `layer.__call__` method instead.\n"
     ]
    }
   ],
   "source": [
    "X = tf.placeholder(tf.float32, shape=(None, n_inputs), name=\"X\")\n",
    "y = tf.placeholder(tf.int64, shape=(None), name=\"y\")\n",
    "\n",
    "with tf.name_scope(\"dnn\"):\n",
    "    hidden1 = tf.layers.dense(X, n_hidden1, name=\"hidden1\", activation=tf.nn.relu)\n",
    "    hidden2 = tf.layers.dense(hidden1, n_hidden2, name=\"hidden2\", activation=tf.nn.relu)\n",
    "    logits = tf.layers.dense(hidden2, n_outputs, name=\"outputs\") \n",
    "    \n",
    "with tf.name_scope(\"loss\"):\n",
    "    xentropy = tf.nn.sparse_softmax_cross_entropy_with_logits(labels=y, logits=logits)\n",
    "    loss = tf.reduce_mean(xentropy, name=\"loss\")\n",
    "    \n",
    "learning_rate = 0.01\n",
    "\n",
    "with tf.name_scope(\"train\"):\n",
    "    optimizer = tf.train.MomentumOptimizer(learning_rate=0.01, momentum=0.9)\n",
    "    training_op = optimizer.minimize(loss)\n",
    "    \n",
    "with tf.name_scope(\"eval\"):\n",
    "    correct = tf.nn.in_top_k(logits, y, 1)\n",
    "    accuracy = tf.reduce_mean(tf.cast(correct, tf.float32))\n",
    "    \n",
    "init = tf.global_variables_initializer()\n",
    "saver = tf.train.Saver()"
   ]
  },
  {
   "cell_type": "code",
   "execution_count": 7,
   "metadata": {},
   "outputs": [
    {
     "name": "stdout",
     "output_type": "stream",
     "text": [
      "Loss =  0.11989795\n",
      "0 Train accuracy: 0.96 Test accuracy: 0.9592\n",
      "Loss =  0.034007482\n",
      "1 Train accuracy: 1.0 Test accuracy: 0.9688\n",
      "Loss =  0.015141343\n",
      "2 Train accuracy: 1.0 Test accuracy: 0.9726\n",
      "Loss =  0.015141343\n",
      "3 Train accuracy: 0.98 Test accuracy: 0.9748\n",
      "Loss =  0.015141343\n",
      "4 Train accuracy: 0.98 Test accuracy: 0.9762\n",
      "Loss =  0.015141343\n",
      "5 Train accuracy: 0.98 Test accuracy: 0.9804\n",
      "Loss =  0.015141343\n",
      "6 Train accuracy: 0.98 Test accuracy: 0.9796\n",
      "Loss =  0.00924704\n",
      "7 Train accuracy: 1.0 Test accuracy: 0.9816\n",
      "Loss =  0.004659665\n",
      "8 Train accuracy: 1.0 Test accuracy: 0.9816\n",
      "Loss =  0.001119045\n",
      "9 Train accuracy: 1.0 Test accuracy: 0.98\n",
      "Loss =  0.001119045\n",
      "10 Train accuracy: 1.0 Test accuracy: 0.9836\n",
      "Loss =  0.001119045\n",
      "11 Train accuracy: 1.0 Test accuracy: 0.9834\n",
      "Loss =  0.001119045\n",
      "12 Train accuracy: 1.0 Test accuracy: 0.9828\n",
      "Loss =  0.00012941117\n",
      "13 Train accuracy: 1.0 Test accuracy: 0.9822\n",
      "Loss =  0.00012941117\n",
      "14 Train accuracy: 1.0 Test accuracy: 0.9822\n",
      "Loss =  0.00012941117\n",
      "15 Train accuracy: 1.0 Test accuracy: 0.983\n",
      "Loss =  0.00012941117\n",
      "16 Train accuracy: 1.0 Test accuracy: 0.9826\n",
      "Loss =  0.00012941117\n",
      "17 Train accuracy: 1.0 Test accuracy: 0.9846\n",
      "Loss =  0.00012941117\n",
      "18 Train accuracy: 1.0 Test accuracy: 0.9834\n",
      "Loss =  0.00012941117\n",
      "19 Train accuracy: 1.0 Test accuracy: 0.9844\n",
      "Loss =  0.00012941117\n",
      "20 Train accuracy: 1.0 Test accuracy: 0.9844\n",
      "Loss =  0.00012941117\n",
      "21 Train accuracy: 1.0 Test accuracy: 0.9838\n",
      "Loss =  0.00012941117\n",
      "22 Train accuracy: 1.0 Test accuracy: 0.9844\n",
      "Loss =  0.00012941117\n",
      "23 Train accuracy: 1.0 Test accuracy: 0.985\n",
      "Loss =  0.00012941117\n",
      "24 Train accuracy: 1.0 Test accuracy: 0.9842\n",
      "Loss =  6.114089e-05\n",
      "25 Train accuracy: 1.0 Test accuracy: 0.9844\n",
      "Loss =  6.114089e-05\n",
      "26 Train accuracy: 1.0 Test accuracy: 0.9838\n",
      "Loss =  6.114089e-05\n",
      "27 Train accuracy: 1.0 Test accuracy: 0.9842\n",
      "Loss =  6.114089e-05\n",
      "28 Train accuracy: 1.0 Test accuracy: 0.984\n",
      "Loss =  6.114089e-05\n",
      "29 Train accuracy: 1.0 Test accuracy: 0.9836\n",
      "Loss =  6.114089e-05\n",
      "30 Train accuracy: 1.0 Test accuracy: 0.9838\n",
      "Loss =  6.114089e-05\n",
      "31 Train accuracy: 1.0 Test accuracy: 0.9836\n",
      "Loss =  6.114089e-05\n",
      "32 Train accuracy: 1.0 Test accuracy: 0.984\n",
      "Loss =  6.114089e-05\n",
      "33 Train accuracy: 1.0 Test accuracy: 0.9844\n",
      "Loss =  6.114089e-05\n",
      "34 Train accuracy: 1.0 Test accuracy: 0.984\n",
      "Loss =  6.114089e-05\n",
      "35 Train accuracy: 1.0 Test accuracy: 0.9844\n",
      "Loss =  6.114089e-05\n",
      "36 Train accuracy: 1.0 Test accuracy: 0.9842\n",
      "Loss =  6.114089e-05\n",
      "37 Train accuracy: 1.0 Test accuracy: 0.9844\n",
      "Loss =  6.114089e-05\n",
      "38 Train accuracy: 1.0 Test accuracy: 0.984\n",
      "Loss =  6.114089e-05\n",
      "39 Train accuracy: 1.0 Test accuracy: 0.9836\n",
      "Loss =  6.114089e-05\n",
      "40 Train accuracy: 1.0 Test accuracy: 0.9846\n",
      "Loss =  6.114089e-05\n",
      "41 Train accuracy: 1.0 Test accuracy: 0.9838\n",
      "Loss =  6.114089e-05\n",
      "42 Train accuracy: 1.0 Test accuracy: 0.984\n",
      "Loss =  6.114089e-05\n",
      "43 Train accuracy: 1.0 Test accuracy: 0.9842\n",
      "Loss =  6.114089e-05\n",
      "44 Train accuracy: 1.0 Test accuracy: 0.984\n",
      "Loss =  6.114089e-05\n",
      "45 Train accuracy: 1.0 Test accuracy: 0.984\n",
      "Loss =  6.114089e-05\n",
      "46 Train accuracy: 1.0 Test accuracy: 0.984\n",
      "Loss =  6.114089e-05\n",
      "47 Train accuracy: 1.0 Test accuracy: 0.9842\n",
      "Loss =  6.114089e-05\n",
      "48 Train accuracy: 1.0 Test accuracy: 0.9844\n",
      "Loss =  6.114089e-05\n",
      "49 Train accuracy: 1.0 Test accuracy: 0.9844\n",
      "Loss =  6.114089e-05\n",
      "50 Train accuracy: 1.0 Test accuracy: 0.984\n",
      "Loss =  6.114089e-05\n",
      "51 Train accuracy: 1.0 Test accuracy: 0.9838\n",
      "Loss =  6.114089e-05\n",
      "52 Train accuracy: 1.0 Test accuracy: 0.9844\n",
      "Loss =  6.114089e-05\n",
      "53 Train accuracy: 1.0 Test accuracy: 0.9842\n",
      "Loss =  6.114089e-05\n",
      "54 Train accuracy: 1.0 Test accuracy: 0.9838\n",
      "Loss =  5.9472615e-05\n",
      "55 Train accuracy: 1.0 Test accuracy: 0.9844\n",
      "Loss =  5.9472615e-05\n",
      "56 Train accuracy: 1.0 Test accuracy: 0.9844\n",
      "Loss =  5.9472615e-05\n",
      "57 Train accuracy: 1.0 Test accuracy: 0.984\n",
      "Loss =  5.9472615e-05\n",
      "58 Train accuracy: 1.0 Test accuracy: 0.9842\n",
      "Loss =  5.9472615e-05\n",
      "59 Train accuracy: 1.0 Test accuracy: 0.9842\n",
      "Loss =  5.9472615e-05\n",
      "60 Train accuracy: 1.0 Test accuracy: 0.9838\n",
      "Loss =  5.9472615e-05\n",
      "61 Train accuracy: 1.0 Test accuracy: 0.9846\n",
      "Loss =  5.9472615e-05\n",
      "62 Train accuracy: 1.0 Test accuracy: 0.9844\n",
      "Loss =  5.9472615e-05\n",
      "63 Train accuracy: 1.0 Test accuracy: 0.9846\n",
      "Loss =  5.9472615e-05\n",
      "64 Train accuracy: 1.0 Test accuracy: 0.984\n",
      "Loss =  5.9472615e-05\n",
      "65 Train accuracy: 1.0 Test accuracy: 0.9844\n",
      "Loss =  5.9472615e-05\n",
      "66 Train accuracy: 1.0 Test accuracy: 0.984\n",
      "Loss =  5.9472615e-05\n",
      "67 Train accuracy: 1.0 Test accuracy: 0.9846\n",
      "Loss =  5.3774143e-05\n",
      "68 Train accuracy: 1.0 Test accuracy: 0.9842\n",
      "Loss =  5.3774143e-05\n",
      "69 Train accuracy: 1.0 Test accuracy: 0.9844\n",
      "Loss =  5.3774143e-05\n",
      "70 Train accuracy: 1.0 Test accuracy: 0.9842\n",
      "Loss =  5.3774143e-05\n",
      "71 Train accuracy: 1.0 Test accuracy: 0.984\n",
      "Loss =  5.3774143e-05\n",
      "72 Train accuracy: 1.0 Test accuracy: 0.9844\n",
      "Loss =  5.3774143e-05\n",
      "73 Train accuracy: 1.0 Test accuracy: 0.9844\n",
      "Loss =  5.3774143e-05\n",
      "74 Train accuracy: 1.0 Test accuracy: 0.9842\n",
      "Loss =  5.3774143e-05\n",
      "75 Train accuracy: 1.0 Test accuracy: 0.9842\n",
      "Loss =  3.778701e-05\n",
      "76 Train accuracy: 1.0 Test accuracy: 0.9844\n",
      "Loss =  3.778701e-05\n",
      "77 Train accuracy: 1.0 Test accuracy: 0.984\n",
      "Loss =  2.147332e-05\n",
      "78 Train accuracy: 1.0 Test accuracy: 0.984\n",
      "Loss =  2.147332e-05\n",
      "79 Train accuracy: 1.0 Test accuracy: 0.9842\n",
      "Loss =  2.147332e-05\n",
      "80 Train accuracy: 1.0 Test accuracy: 0.9844\n",
      "Loss =  9.822713e-07\n",
      "81 Train accuracy: 1.0 Test accuracy: 0.9848\n",
      "Loss =  9.822713e-07\n",
      "82 Train accuracy: 1.0 Test accuracy: 0.9846\n",
      "Loss =  9.822713e-07\n",
      "83 Train accuracy: 1.0 Test accuracy: 0.9844\n",
      "Loss =  9.822713e-07\n",
      "84 Train accuracy: 1.0 Test accuracy: 0.9842\n",
      "Loss =  9.822713e-07\n",
      "85 Train accuracy: 1.0 Test accuracy: 0.9844\n",
      "Loss =  9.822713e-07\n",
      "86 Train accuracy: 1.0 Test accuracy: 0.9842\n",
      "Loss =  9.822713e-07\n",
      "87 Train accuracy: 1.0 Test accuracy: 0.9842\n",
      "Loss =  9.822713e-07\n",
      "88 Train accuracy: 1.0 Test accuracy: 0.9844\n",
      "Loss =  9.822713e-07\n",
      "89 Train accuracy: 1.0 Test accuracy: 0.9848\n",
      "Loss =  9.822713e-07\n",
      "90 Train accuracy: 1.0 Test accuracy: 0.9844\n",
      "Loss =  9.822713e-07\n",
      "91 Train accuracy: 1.0 Test accuracy: 0.9842\n",
      "Loss =  9.822713e-07\n",
      "92 Train accuracy: 1.0 Test accuracy: 0.9838\n",
      "Loss =  9.822713e-07\n",
      "93 Train accuracy: 1.0 Test accuracy: 0.9846\n",
      "Loss =  9.822713e-07\n",
      "94 Train accuracy: 1.0 Test accuracy: 0.9842\n",
      "Loss =  9.822713e-07\n",
      "95 Train accuracy: 1.0 Test accuracy: 0.9842\n",
      "Loss =  9.822713e-07\n",
      "96 Train accuracy: 1.0 Test accuracy: 0.9844\n",
      "Loss =  9.822713e-07\n",
      "97 Train accuracy: 1.0 Test accuracy: 0.9842\n",
      "Loss =  9.822713e-07\n",
      "98 Train accuracy: 1.0 Test accuracy: 0.9838\n",
      "Loss =  9.822713e-07\n",
      "99 Train accuracy: 1.0 Test accuracy: 0.9844\n",
      "Loss =  9.822713e-07\n",
      "100 Train accuracy: 1.0 Test accuracy: 0.9844\n",
      "Loss =  9.822713e-07\n",
      "101 Train accuracy: 1.0 Test accuracy: 0.9842\n",
      "Loss =  9.822713e-07\n",
      "102 Train accuracy: 1.0 Test accuracy: 0.9842\n",
      "Loss =  9.822713e-07\n",
      "103 Train accuracy: 1.0 Test accuracy: 0.9844\n",
      "Loss =  9.822713e-07\n",
      "104 Train accuracy: 1.0 Test accuracy: 0.9842\n",
      "Loss =  9.822713e-07\n",
      "105 Train accuracy: 1.0 Test accuracy: 0.9844\n",
      "Loss =  9.822713e-07\n",
      "106 Train accuracy: 1.0 Test accuracy: 0.984\n",
      "Loss =  9.822713e-07\n",
      "107 Train accuracy: 1.0 Test accuracy: 0.9838\n",
      "Loss =  9.822713e-07\n",
      "108 Train accuracy: 1.0 Test accuracy: 0.9842\n",
      "Loss =  9.822713e-07\n",
      "109 Train accuracy: 1.0 Test accuracy: 0.984\n",
      "Loss =  9.822713e-07\n",
      "110 Train accuracy: 1.0 Test accuracy: 0.9842\n",
      "Loss =  9.822713e-07\n",
      "111 Train accuracy: 1.0 Test accuracy: 0.9836\n",
      "Loss =  9.822713e-07\n",
      "112 Train accuracy: 1.0 Test accuracy: 0.9844\n",
      "Loss =  9.822713e-07\n",
      "113 Train accuracy: 1.0 Test accuracy: 0.984\n",
      "Loss =  9.822713e-07\n",
      "114 Train accuracy: 1.0 Test accuracy: 0.984\n",
      "Loss =  9.822713e-07\n",
      "115 Train accuracy: 1.0 Test accuracy: 0.9842\n",
      "Loss =  9.822713e-07\n",
      "116 Train accuracy: 1.0 Test accuracy: 0.9842\n",
      "Loss =  9.822713e-07\n",
      "117 Train accuracy: 1.0 Test accuracy: 0.9842\n",
      "Loss =  9.822713e-07\n",
      "118 Train accuracy: 1.0 Test accuracy: 0.9844\n",
      "Loss =  9.822713e-07\n",
      "119 Train accuracy: 1.0 Test accuracy: 0.984\n",
      "Loss =  9.822713e-07\n",
      "120 Train accuracy: 1.0 Test accuracy: 0.9842\n",
      "Loss =  9.822713e-07\n",
      "121 Train accuracy: 1.0 Test accuracy: 0.984\n",
      "Loss =  9.822713e-07\n",
      "122 Train accuracy: 1.0 Test accuracy: 0.9844\n",
      "Loss =  9.822713e-07\n",
      "123 Train accuracy: 1.0 Test accuracy: 0.9842\n"
     ]
    },
    {
     "name": "stdout",
     "output_type": "stream",
     "text": [
      "Loss =  9.822713e-07\n",
      "124 Train accuracy: 1.0 Test accuracy: 0.984\n",
      "Loss =  9.822713e-07\n",
      "125 Train accuracy: 1.0 Test accuracy: 0.9842\n",
      "Loss =  9.822713e-07\n",
      "126 Train accuracy: 1.0 Test accuracy: 0.984\n",
      "Loss =  9.822713e-07\n",
      "127 Train accuracy: 1.0 Test accuracy: 0.9842\n",
      "Loss =  9.822713e-07\n",
      "128 Train accuracy: 1.0 Test accuracy: 0.9848\n",
      "Loss =  9.822713e-07\n",
      "129 Train accuracy: 1.0 Test accuracy: 0.9838\n",
      "Loss =  9.822713e-07\n",
      "130 Train accuracy: 1.0 Test accuracy: 0.984\n",
      "Loss =  9.822713e-07\n",
      "131 Train accuracy: 1.0 Test accuracy: 0.9842\n",
      "Early stopping executed!\n"
     ]
    }
   ],
   "source": [
    "n_epochs = 400\n",
    "batch_size = 50\n",
    "\n",
    "min_value = 1.0\n",
    "n_iteration = 0\n",
    "loss_batch = []\n",
    "\n",
    "with tf.Session() as sess:\n",
    "    init.run()\n",
    "    for epoch in range(n_epochs):\n",
    "        for X_batch, y_batch in shuffle_batch(X_train, y_train, batch_size):\n",
    "            sess.run(training_op, feed_dict={X: X_batch, y: y_batch}) \n",
    "            temp_loss = sess.run(loss, feed_dict={X: X_batch, y: y_batch})  \n",
    "         \n",
    "        acc_train = accuracy.eval(feed_dict={X: X_batch, y: y_batch})\n",
    "        acc_test = accuracy.eval(feed_dict={X: X_valid, y: y_valid})     \n",
    "        \n",
    "        if(temp_loss < min_value):\n",
    "            min_value = temp_loss\n",
    "            n_iteration = 0\n",
    "        else:\n",
    "            n_iteration += 1\n",
    "          \n",
    "        print('Loss = ', min_value)\n",
    "        print(epoch, \"Train accuracy:\", acc_train, \"Test accuracy:\", acc_test)\n",
    "        \n",
    "        if(n_iteration >= 50):\n",
    "            break;\n",
    "    \n",
    "    print('Early stopping executed!')\n",
    "    save_path = saver.save(sess, \"./my_model_finalv4.ckpt\")"
   ]
  },
  {
   "cell_type": "code",
   "execution_count": 8,
   "metadata": {},
   "outputs": [
    {
     "name": "stdout",
     "output_type": "stream",
     "text": [
      "INFO:tensorflow:Restoring parameters from ./my_model_finalv4.ckpt\n"
     ]
    }
   ],
   "source": [
    "with tf.Session() as sess:\n",
    "    saver.restore(sess, \"./my_model_finalv4.ckpt\") # or better, use save_path\n",
    "    X_new_scaled = X_test[:20]\n",
    "    Z = logits.eval(feed_dict={X: X_new_scaled})\n",
    "    y_pred = np.argmax(Z, axis=1)"
   ]
  },
  {
   "cell_type": "code",
   "execution_count": 9,
   "metadata": {},
   "outputs": [
    {
     "name": "stdout",
     "output_type": "stream",
     "text": [
      "Predicted classes: [7 2 1 0 4 1 4 9 5 9 0 6 9 0 1 5 9 7 3 4]\n",
      "Actual classes:    [7 2 1 0 4 1 4 9 5 9 0 6 9 0 1 5 9 7 3 4]\n"
     ]
    }
   ],
   "source": [
    "print(\"Predicted classes:\", y_pred)\n",
    "print(\"Actual classes:   \", y_test[:20])"
   ]
  },
  {
   "cell_type": "code",
   "execution_count": 10,
   "metadata": {},
   "outputs": [
    {
     "data": {
      "text/plain": [
       "'G.gv.pdf'"
      ]
     },
     "execution_count": 10,
     "metadata": {},
     "output_type": "execute_result"
    }
   ],
   "source": [
    "g = tfg.board(tf.get_default_graph())\n",
    "g.view()"
   ]
  },
  {
   "cell_type": "code",
   "execution_count": 11,
   "metadata": {},
   "outputs": [],
   "source": [
    "# Load the TensorBoard notebook extension\n",
    "%load_ext tensorboard\n",
    "#%reload_ext tensorboard"
   ]
  },
  {
   "cell_type": "code",
   "execution_count": 12,
   "metadata": {},
   "outputs": [
    {
     "data": {
      "text/plain": [
       "ERROR: Could not find `tensorboard`. Please ensure that your PATH\n",
       "contains an executable `tensorboard` program, or explicitly specify\n",
       "the path to a TensorBoard binary by setting the `TENSORBOARD_BINARY`\n",
       "environment variable."
      ]
     },
     "metadata": {},
     "output_type": "display_data"
    }
   ],
   "source": [
    "%tensorboard --logdir ./"
   ]
  }
 ],
 "metadata": {
  "kernelspec": {
   "display_name": "Python 3",
   "language": "python",
   "name": "python3"
  },
  "language_info": {
   "codemirror_mode": {
    "name": "ipython",
    "version": 3
   },
   "file_extension": ".py",
   "mimetype": "text/x-python",
   "name": "python",
   "nbconvert_exporter": "python",
   "pygments_lexer": "ipython3",
   "version": "3.7.3"
  }
 },
 "nbformat": 4,
 "nbformat_minor": 2
}
