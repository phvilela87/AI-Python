{
 "cells": [
  {
   "cell_type": "markdown",
   "metadata": {},
   "source": [
    "# Exercício 3"
   ]
  },
  {
   "cell_type": "markdown",
   "metadata": {},
   "source": [
    "a)\n",
    "\n",
    "$X = 10$ \n",
    "\n",
    "b)\n",
    "\n",
    "$W_h = 500$  \n",
    "$b_h = 50$  \n",
    "   \n",
    "c)\n",
    "\n",
    "$W_o = 150$  \n",
    "$b_o = 3$  \n",
    "   \n",
    "d) \n",
    "\n",
    "$Y = 3$  \n",
    "\n",
    "e)\n",
    "\n",
    "$y^3=f^3(W^3f^2(W^2f^1(W^1x + b^1)+b^2)+b^3)$  "
   ]
  },
  {
   "cell_type": "code",
   "execution_count": null,
   "metadata": {},
   "outputs": [],
   "source": []
  }
 ],
 "metadata": {
  "kernelspec": {
   "display_name": "Python 3",
   "language": "python",
   "name": "python3"
  },
  "language_info": {
   "codemirror_mode": {
    "name": "ipython",
    "version": 3
   },
   "file_extension": ".py",
   "mimetype": "text/x-python",
   "name": "python",
   "nbconvert_exporter": "python",
   "pygments_lexer": "ipython3",
   "version": "3.7.3"
  }
 },
 "nbformat": 4,
 "nbformat_minor": 4
}
