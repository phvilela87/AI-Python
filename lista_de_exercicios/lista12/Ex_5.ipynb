{
 "cells": [
  {
   "cell_type": "markdown",
   "metadata": {},
   "source": [
    "# Exercício 5"
   ]
  },
  {
   "cell_type": "markdown",
   "metadata": {},
   "source": [
    "Existem diversos hiperparâmetros que podem ser ajustados em uma rede MLP. Alguns destes hiperparâmetros que foram abordados são:\n",
    "\n",
    "* número de camadas ocultas\n",
    "* número de neurônio por camada\n",
    "* inicialização dos pesos\n",
    "* funções de ativação\n",
    "* taxa de aprendizado\n",
    "* número de épocas\n",
    "* tamanho do mini-lote\n",
    "* otimizadores\n",
    "\n",
    "Caso a rede esteja sobreajustando, pode-se empregar o early stopping para evitar que isto ocorra. Uma abordagem mais simples é escolher um modelo com mais camadas e neurônios do que realmente precisa, e em seguida, usar early stopping para evitar que a rede se sobreajuste."
   ]
  }
 ],
 "metadata": {
  "kernelspec": {
   "display_name": "Python 3",
   "language": "python",
   "name": "python3"
  },
  "language_info": {
   "codemirror_mode": {
    "name": "ipython",
    "version": 3
   },
   "file_extension": ".py",
   "mimetype": "text/x-python",
   "name": "python",
   "nbconvert_exporter": "python",
   "pygments_lexer": "ipython3",
   "version": "3.7.3"
  }
 },
 "nbformat": 4,
 "nbformat_minor": 4
}
