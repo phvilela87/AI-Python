{
 "cells": [
  {
   "cell_type": "markdown",
   "metadata": {},
   "source": [
    "# Exercício 9"
   ]
  },
  {
   "cell_type": "code",
   "execution_count": 1,
   "metadata": {},
   "outputs": [],
   "source": [
    "import numpy as np\n",
    "import matplotlib.pyplot as plt\n",
    "from sklearn.datasets import make_moons\n",
    "from sklearn.cluster import KMeans"
   ]
  },
  {
   "cell_type": "code",
   "execution_count": 2,
   "metadata": {},
   "outputs": [],
   "source": [
    "X, y = make_moons(n_samples=9, noise=0.30, random_state=42)\n",
    "\n",
    "centroids, y = make_moons(n_samples=3, noise=0.30, random_state=42)"
   ]
  },
  {
   "cell_type": "code",
   "execution_count": 3,
   "metadata": {},
   "outputs": [],
   "source": [
    "X[0] = [1,4]\n",
    "X[1] = [4,3]\n",
    "X[2] = [4,5]\n",
    "X[3] = [3,6]\n",
    "X[4] = [6,7]\n",
    "X[5] = [3,3]\n",
    "X[6] = [2,5]\n",
    "X[7] = [2,2]\n",
    "X[8] = [2,3]\n",
    "\n",
    "centroids[0] = [5,3]\n",
    "centroids[1] = [1,3]\n",
    "centroids[2] = [3,4]"
   ]
  },
  {
   "cell_type": "code",
   "execution_count": 4,
   "metadata": {},
   "outputs": [
    {
     "data": {
      "image/png": "[encoded data removed]",
      "text/plain": [
       "<Figure size 432x288 with 1 Axes>"
      ]
     },
     "metadata": {
      "needs_background": "light"
     },
     "output_type": "display_data"
    }
   ],
   "source": [
    "x1 = [1,4,4,3,6,3,2,2,2]\n",
    "x2 = [4,3,5,6,7,3,5,2,3]\n",
    "\n",
    "plt.scatter(x1,x2)\n",
    "plt.xlabel('$x_1$')\n",
    "plt.ylabel('$x_2$')\n",
    "plt.title('a) training data')\n",
    "plt.show()"
   ]
  },
  {
   "cell_type": "code",
   "execution_count": 5,
   "metadata": {},
   "outputs": [
    {
     "data": {
      "text/plain": [
       "KMeans(n_clusters=3, n_init=1)"
      ]
     },
     "execution_count": 5,
     "metadata": {},
     "output_type": "execute_result"
    }
   ],
   "source": [
    "km = KMeans(n_clusters=3, n_init=1)\n",
    "\n",
    "km.fit(X)"
   ]
  },
  {
   "cell_type": "code",
   "execution_count": 6,
   "metadata": {},
   "outputs": [
    {
     "name": "stdout",
     "output_type": "stream",
     "text": [
      "c) Centroids optimum values\n",
      "Centroid 0: (2.40, 3.00)\n",
      "Centroid 1: (3.00, 5.33)\n",
      "Centroid 2: (6.00, 7.00)\n"
     ]
    }
   ],
   "source": [
    "centroid1 = []\n",
    "centroid2 = []\n",
    "\n",
    "print('c) Centroids optimum values')\n",
    "\n",
    "for i in range(0,3):\n",
    "    centroid1.append(km.cluster_centers_[i][0])\n",
    "    centroid2.append(km.cluster_centers_[i][1])\n",
    "    print('Centroid %d: (%1.2f, %1.2f)' % (i,km.cluster_centers_[i][0],km.cluster_centers_[i][1]))"
   ]
  },
  {
   "cell_type": "code",
   "execution_count": 7,
   "metadata": {},
   "outputs": [
    {
     "name": "stdout",
     "output_type": "stream",
     "text": [
      "d) Foram necessárias 2 Iterações para treinar o modelo\n"
     ]
    }
   ],
   "source": [
    "print('d) Foram necessárias',km.n_iter_, 'Iterações para treinar o modelo')"
   ]
  },
  {
   "cell_type": "code",
   "execution_count": 8,
   "metadata": {},
   "outputs": [],
   "source": [
    "y = km.labels_"
   ]
  },
  {
   "cell_type": "code",
   "execution_count": 9,
   "metadata": {},
   "outputs": [
    {
     "name": "stdout",
     "output_type": "stream",
     "text": [
      "[0 0 1 1 2 0 1 0 0]\n"
     ]
    }
   ],
   "source": [
    "print(y)"
   ]
  },
  {
   "cell_type": "code",
   "execution_count": 10,
   "metadata": {},
   "outputs": [
    {
     "name": "stdout",
     "output_type": "stream",
     "text": [
      "[[2.4        3.        ]\n",
      " [3.         5.33333333]\n",
      " [6.         7.        ]]\n"
     ]
    }
   ],
   "source": [
    "print(km.cluster_centers_)"
   ]
  },
  {
   "cell_type": "code",
   "execution_count": 11,
   "metadata": {},
   "outputs": [
    {
     "data": {
      "image/png": "[encoded data removed]",
      "text/plain": [
       "<Figure size 360x360 with 1 Axes>"
      ]
     },
     "metadata": {
      "needs_background": "light"
     },
     "output_type": "display_data"
    }
   ],
   "source": [
    "idx0 = np.argwhere(y == 0)\n",
    "idx1 = np.argwhere(y == 1)\n",
    "idx2 = np.argwhere(y == 2)\n",
    "\n",
    "fig = plt.figure(figsize=(5,5))\n",
    "plt.plot(X[idx0,0], X[idx0,1], '.', label='Class 0')\n",
    "plt.plot(X[idx1,0], X[idx1,1], '>', label='Class 1')\n",
    "plt.plot(X[idx2,0], X[idx2,1], 'o', label='Class 2')\n",
    "plt.plot(centroid1,centroid2, 'P', label='Centroids')\n",
    "plt.xlabel('$x_1$')\n",
    "plt.ylabel('$x_2$')\n",
    "plt.title('e) clusteres a que cada um pertence')\n",
    "plt.legend()\n",
    "plt.show()"
   ]
  }
 ],
 "metadata": {
  "kernelspec": {
   "display_name": "Python 3",
   "language": "python",
   "name": "python3"
  },
  "language_info": {
   "codemirror_mode": {
    "name": "ipython",
    "version": 3
   },
   "file_extension": ".py",
   "mimetype": "text/x-python",
   "name": "python",
   "nbconvert_exporter": "python",
   "pygments_lexer": "ipython3",
   "version": "3.7.3"
  }
 },
 "nbformat": 4,
 "nbformat_minor": 4
}
