{
 "cells": [
  {
   "cell_type": "markdown",
   "metadata": {},
   "source": [
    "# Exercício 4"
   ]
  },
  {
   "cell_type": "code",
   "execution_count": 1,
   "metadata": {},
   "outputs": [],
   "source": [
    "import numpy as np\n",
    "import matplotlib.pyplot as plt\n",
    "import math \n",
    "from sklearn.datasets import make_blobs\n",
    "from sklearn.cluster import KMeans\n",
    "from sklearn.metrics import silhouette_samples, silhouette_score\n",
    "from scipy.special import erfc"
   ]
  },
  {
   "cell_type": "code",
   "execution_count": 2,
   "metadata": {},
   "outputs": [],
   "source": [
    "def mod(V):\n",
    "    ip = np.zeros((len(V),1),dtype=complex)\n",
    "    inc = 0\n",
    "    for v in V:\n",
    "        if(v==0):\n",
    "            ip[inc] = -1.0 - 1j*1.0\n",
    "        elif(v==1):\n",
    "            ip[inc] = -1.0 + 1j*1.0\n",
    "        elif(v==2):\n",
    "            ip[inc] = 1.0 - 1j*1.0\n",
    "        else:\n",
    "            ip[inc] = 1.0 + 1j*1.0\n",
    "        inc += 1\n",
    "    # Normalization of energy to 1.\n",
    "    s = (1/np.sqrt(2))*ip;\n",
    "    return s\n",
    "\n",
    "def demod(c):\n",
    "    c_seq = mod(np.array([0,1,2,3]))\n",
    "    c_seq = c_seq[:,0]\n",
    "    e = []\n",
    "    for i in range(0,len(c_seq)):\n",
    "        e.append(np.abs(c_seq[i] - c)**2)\n",
    "    return e.index(np.min(e))"
   ]
  },
  {
   "cell_type": "code",
   "execution_count": 3,
   "metadata": {},
   "outputs": [],
   "source": [
    "# Number of BPSK symbols to be transmitted.\n",
    "N = 1000000"
   ]
  },
  {
   "cell_type": "code",
   "execution_count": 4,
   "metadata": {},
   "outputs": [],
   "source": [
    "# Create Es/N0 vector.\n",
    "EsN0dB = np.arange(-2,22,2)\n",
    "\n",
    "ser_simu = np.zeros(len(EsN0dB))\n",
    "ser_theo = np.zeros(len(EsN0dB))\n",
    "\n",
    "n_clusters=2\n",
    "km_re = KMeans(n_clusters=n_clusters)\n",
    "\n",
    "km_im = KMeans(n_clusters=n_clusters)\n",
    "\n",
    "ber_theo = ber_simu = np.zeros(len(EsN0dB))\n",
    "for idx in range(0,len(EsN0dB)):    \n",
    "\n",
    "    EsN0Lin = 10.0**(-(EsN0dB[idx]/10.0))\n",
    "    \n",
    "    # Generate N QPSK symbols.\n",
    "    x = (2.0 * (np.random.rand(N, 1) >= 0.5) - 1.0) + 1j*(2.0 * (np.random.rand(N, 1) >=0.5) - 1.0)\n",
    "    \n",
    "    xAux = np.random.rand(N, 1)\n",
    "    x_demod = np.random.rand(N, 1)\n",
    "    # Normalization of energy to 1.\n",
    "    s = (1/np.sqrt(2))*x;\n",
    "\n",
    "    # Generate noise vector with unitary variance.\n",
    "    noise = np.sqrt(1.0/2.0)*(np.random.randn(N, 1) + 1j*np.random.randn(N, 1))\n",
    "\n",
    "    # Pass symbols through AWGN channel.\n",
    "    y = s + np.sqrt(EsN0Lin)*noise\n",
    "    \n",
    "    # Fit model for real part.\n",
    "    km_re.fit(y.real)\n",
    "    \n",
    "    # Fit model for imaginary parts.\n",
    "    km_im.fit(y.imag)\n",
    "    \n",
    "    # Prediction for real part.\n",
    "    detected_x_re = km_re.labels_\n",
    "    detected_x_re = detected_x_re.reshape(len(x), 1)\n",
    "    \n",
    "    # Prediction for imaginary part.\n",
    "    detected_x_im = km_im.labels_\n",
    "    detected_x_im = detected_x_im.reshape(len(x), 1)\n",
    "    \n",
    "    for j in range(len(detected_x_re)):\n",
    "        \n",
    "        if(x[j].real == -1 and x[j].imag == -1):\n",
    "            xAux[j] = 0\n",
    "        elif(x[j].real == -1 and x[j].imag == 1):\n",
    "            xAux[j] = 1\n",
    "        elif(x[j].real == 1 and x[j].imag == -1):\n",
    "            xAux[j] = 2\n",
    "        else:\n",
    "            xAux[j] = 3\n",
    "        pred = km_re.cluster_centers_[detected_x_re[j],0] + 1j*km_im.cluster_centers_[detected_x_im[j],0]\n",
    "        x_demod[j] = demod(pred)\n",
    "    \n",
    "    # Simulated QPSK BER.\n",
    "    error_ = (xAux != x_demod)\n",
    "    \n",
    "    error = 0;\n",
    "    for i in range(0, N):\n",
    "        if(error_[i]==True):\n",
    "            error = error + 1          \n",
    "  \n",
    "    ser_simu[idx] = 1.0 * error / N\n",
    "    # Theoretical QPSK BER.\n",
    "    ser_theo[idx] = erfc( np.sqrt( 0.5*(10.0**(EsN0dB[idx]/10.0)) ) ) - (1/4)*(erfc(np.sqrt(0.5*(10.0**(EsN0dB[idx]/10.0)))))**2.0"
   ]
  },
  {
   "cell_type": "code",
   "execution_count": 5,
   "metadata": {},
   "outputs": [
    {
     "name": "stdout",
     "output_type": "stream",
     "text": [
      "Es/N0:-2 \t- SER: 3.817390e-01\n",
      "Es/N0:0 \t- SER: 2.923580e-01\n",
      "Es/N0:2 \t- SER: 1.977550e-01\n",
      "Es/N0:4 \t- SER: 1.100980e-01\n",
      "Es/N0:6 \t- SER: 4.570700e-02\n",
      "Es/N0:8 \t- SER: 1.190700e-02\n",
      "Es/N0:10 \t- SER: 1.602000e-03\n",
      "Es/N0:12 \t- SER: 7.500000e-05\n",
      "Es/N0:14 \t- SER: 0.000000e+00\n",
      "Es/N0:16 \t- SER: 0.000000e+00\n",
      "Es/N0:18 \t- SER: 0.000000e+00\n",
      "Es/N0:20 \t- SER: 0.000000e+00\n"
     ]
    }
   ],
   "source": [
    "# Print Es/N0 versus SER values.\n",
    "for i in range(0,len(ser_simu)): print('Es/N0:%d \\t- SER: %e' % (EsN0dB[i], ser_simu[i]))"
   ]
  },
  {
   "cell_type": "code",
   "execution_count": 6,
   "metadata": {},
   "outputs": [
    {
     "data": {
      "image/png": "[encoded data removed]",
      "text/plain": [
       "<Figure size 504x504 with 1 Axes>"
      ]
     },
     "metadata": {
      "needs_background": "light"
     },
     "output_type": "display_data"
    }
   ],
   "source": [
    "# Plot Es/N0 versus BER values.\n",
    "fig = plt.figure(figsize=(7,7))\n",
    "plt.plot(EsN0dB, ser_theo, label='theoretical')\n",
    "plt.plot(EsN0dB, ser_simu, 'ro', label='simulated')\n",
    "plt.xscale('linear')\n",
    "plt.yscale('log')\n",
    "plt.xlabel('Es/N0 [dB]')\n",
    "plt.ylabel('SER')\n",
    "plt.grid(True)\n",
    "plt.title('QPSK detection')\n",
    "plt.legend()\n",
    "#plt.xlim([-10, 10])\n",
    "#plt.ylim([1e-5, 1])\n",
    "plt.show()"
   ]
  }
 ],
 "metadata": {
  "kernelspec": {
   "display_name": "Python 3",
   "language": "python",
   "name": "python3"
  },
  "language_info": {
   "codemirror_mode": {
    "name": "ipython",
    "version": 3
   },
   "file_extension": ".py",
   "mimetype": "text/x-python",
   "name": "python",
   "nbconvert_exporter": "python",
   "pygments_lexer": "ipython3",
   "version": "3.7.3"
  }
 },
 "nbformat": 4,
 "nbformat_minor": 4
}
