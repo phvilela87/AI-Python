{
 "cells": [
  {
   "cell_type": "markdown",
   "metadata": {},
   "source": [
    "# Exercício 10"
   ]
  },
  {
   "cell_type": "code",
   "execution_count": 1,
   "metadata": {},
   "outputs": [],
   "source": [
    "import os\n",
    "import numpy as np\n",
    "import tensorflow.python.util.deprecation as deprecation\n",
    "import tensorflow.compat.v1 as tf\n",
    "import matplotlib.pyplot as plt\n",
    "from sklearn.datasets import make_moons\n",
    "from sklearn.model_selection import train_test_split\n",
    "from sklearn.metrics import precision_score, recall_score\n",
    "from datetime import datetime"
   ]
  },
  {
   "cell_type": "code",
   "execution_count": 2,
   "metadata": {},
   "outputs": [],
   "source": [
    "deprecation._PRINT_DEPRECATION_WARNINGS = False\n",
    "tf.disable_v2_behavior()\n",
    "tf.compat.v1.disable_resource_variables()"
   ]
  },
  {
   "cell_type": "code",
   "execution_count": 3,
   "metadata": {},
   "outputs": [],
   "source": [
    "# Define the number of examples.\n",
    "N = 1000\n",
    "\n",
    "# Create the dataset.\n",
    "X, y = make_moons(N, noise=0.1, random_state=42)"
   ]
  },
  {
   "cell_type": "code",
   "execution_count": 4,
   "metadata": {},
   "outputs": [
    {
     "data": {
      "image/png": "[encoded data removed]",
      "text/plain": [
       "<Figure size 504x504 with 1 Axes>"
      ]
     },
     "metadata": {
      "needs_background": "light"
     },
     "output_type": "display_data"
    }
   ],
   "source": [
    "idx0 = np.argwhere(y == 0)\n",
    "idx1 = np.argwhere(y == 1)\n",
    "\n",
    "fig = plt.figure(figsize=(7,7))\n",
    "plt.plot(X[idx0,0], X[idx0,1], 'o', label='Class 0')\n",
    "plt.plot(X[idx1,0], X[idx1,1], 's', label='Class 1')\n",
    "plt.xlabel('$x_1$')\n",
    "plt.ylabel('$x_2$')\n",
    "plt.legend()\n",
    "plt.savefig('distribution_of_classes_for_train_set', dpi=600)\n",
    "plt.show()"
   ]
  },
  {
   "cell_type": "code",
   "execution_count": 5,
   "metadata": {},
   "outputs": [
    {
     "name": "stdout",
     "output_type": "stream",
     "text": [
      "Train data size is (800, 2), train data label size is (800, 1)\n",
      "Test data size is (200, 2), test data label size is (200, 1)\n"
     ]
    }
   ],
   "source": [
    "y_vector = y.reshape(-1, 1)\n",
    "\n",
    "# Split array into random train and test subsets.\n",
    "x_train, x_test, y_train, y_test = train_test_split(X, y_vector, test_size=0.20, random_state=42)\n",
    "\n",
    "print(f\"Train data size is {x_train.shape}, train data label size is {y_train.shape}\")\n",
    "print(f\"Test data size is {x_test.shape}, test data label size is {y_test.shape}\")"
   ]
  },
  {
   "cell_type": "code",
   "execution_count": 6,
   "metadata": {},
   "outputs": [
    {
     "name": "stdout",
     "output_type": "stream",
     "text": [
      "Train data size is (800, 7), train data label size is (800, 1)\n",
      "Test data size is (200, 7), test data label size is (200, 1)\n"
     ]
    }
   ],
   "source": [
    "x_train_h = np.c_[np.ones((len(y_train), 1)), x_train, x_train**2, x_train**3]\n",
    "x_test_h = np.c_[np.ones((len(y_test), 1)), x_test, x_test**2, x_test**3]\n",
    "\n",
    "print(f\"Train data size is {x_train_h.shape}, train data label size is {y_train.shape}\")\n",
    "print(f\"Test data size is {x_test_h.shape}, test data label size is {y_test.shape}\")"
   ]
  },
  {
   "cell_type": "code",
   "execution_count": 7,
   "metadata": {},
   "outputs": [],
   "source": [
    "def select_random_batch(X, y): \n",
    "    #Take Training data and Batch size as input\n",
    "    random_index = np.random.randint(N)\n",
    "    X_i = X[random_index:random_index+1]\n",
    "    y_i = y[random_index:random_index+1]\n",
    "    return X_i, y_i\n",
    "\n",
    "# to make this notebook's output stable across runs\n",
    "def reset_graph(seed=42):\n",
    "    tf.reset_default_graph()\n",
    "    tf.set_random_seed(seed)\n",
    "    np.random.seed(seed)"
   ]
  },
  {
   "cell_type": "code",
   "execution_count": 8,
   "metadata": {},
   "outputs": [],
   "source": [
    "reset_graph()"
   ]
  },
  {
   "cell_type": "code",
   "execution_count": 9,
   "metadata": {},
   "outputs": [
    {
     "name": "stdout",
     "output_type": "stream",
     "text": [
      "Epoch: 0 \tLoss: 0.36365438\n",
      "Epoch: 100 \tLoss: 0.04620349\n",
      "Epoch: 200 \tLoss: 0.0303091\n",
      "Epoch: 300 \tLoss: 0.023701778\n",
      "Epoch: 400 \tLoss: 0.019765927\n",
      "Epoch: 500 \tLoss: 0.017867256\n",
      "Epoch: 600 \tLoss: 0.01638909\n",
      "Epoch: 700 \tLoss: 0.014622293\n",
      "Epoch: 800 \tLoss: 0.013669419\n",
      "Epoch: 900 \tLoss: 0.012458577\n",
      "Epoch: 1000 \tLoss: 0.012169467\n",
      "Epoch: 1100 \tLoss: 0.01124984\n",
      "Epoch: 1200 \tLoss: 0.010501978\n",
      "Epoch: 1300 \tLoss: 0.010323923\n",
      "Epoch: 1400 \tLoss: 0.009708179\n",
      "Epoch: 1500 \tLoss: 0.009519891\n",
      "Epoch: 1600 \tLoss: 0.009150004\n",
      "Epoch: 1700 \tLoss: 0.0089271255\n",
      "Epoch: 1800 \tLoss: 0.008491191\n",
      "Epoch: 1900 \tLoss: 0.008338716\n"
     ]
    }
   ],
   "source": [
    "now = datetime.utcnow().strftime(\"%Y%m%d%H%M%S\")\n",
    "root_logdir = \"tf_logs2\"\n",
    "logdir = \"{}/run-{}/\".format(root_logdir, now)\n",
    "\n",
    "# Number of features\n",
    "input_no =6 \n",
    "\n",
    "# Placeholders\n",
    "X = tf.placeholder(tf.float32, shape =(None, input_no + 1), name = \"X\" ) #Place holder for training data X\n",
    "y = tf.placeholder(tf.float32, shape =(None, 1), name = \"y\" ) #Place holder for training label data y\n",
    "theta = tf.Variable(tf.random_uniform([input_no + 1, 1], -1.0, 1.0, seed=42), name=\"theta\") #Initialize the Random value for theta\n",
    "y_pred = tf.matmul(X, theta, name=\"predictions\")\n",
    "\n",
    "# Operations\n",
    "logits = tf.matmul(X, theta, name=\"logits\") #Tensorflow operations\n",
    "y_proba = tf.sigmoid(logits) #Calculate the probability\n",
    "loss = tf.losses.log_loss(y, y_proba) #Loss function\n",
    "\n",
    "learning_rate = 0.01\n",
    "optimizer = tf.train.GradientDescentOptimizer(learning_rate=learning_rate)\n",
    "training_op = optimizer.minimize(loss)\n",
    "\n",
    "init = tf.global_variables_initializer()\n",
    "saver = tf.train.Saver()\n",
    "\n",
    "epochs = 2000\n",
    "\n",
    "train_summary = tf.summary.scalar('Training', loss)\n",
    "file_writer = tf.summary.FileWriter(logdir, tf.get_default_graph())\n",
    "\n",
    "with tf.Session() as sess:\n",
    "    sess.run(init)\n",
    "    \n",
    "    for epoch in range(epochs):\n",
    "        for idx in range(N):\n",
    "            X_i, y_i = select_random_batch(x_train_h, y_train)\n",
    "            sess.run(training_op, feed_dict={X: X_i, y: y_i})\n",
    "            loss_val = loss.eval({X: x_test_h, y: y_test})\n",
    "        if epoch % 100 == 0:\n",
    "            print(\"Epoch:\", epoch, \"\\tLoss:\", loss_val)\n",
    "            y_proba_val = y_proba.eval(feed_dict={X: x_test_h, y: y_test})\n",
    "                                    \n",
    "    best_theta = theta.eval()\n",
    "    save_path = saver.save(sess, \"/tmp/my_model_final.ckpt\")                           \n",
    "\n",
    "file_writer.close()  "
   ]
  },
  {
   "cell_type": "code",
   "execution_count": 10,
   "metadata": {},
   "outputs": [
    {
     "name": "stdout",
     "output_type": "stream",
     "text": [
      "INFO:tensorflow:Restoring parameters from /tmp/my_model_final.ckpt\n"
     ]
    },
    {
     "data": {
      "text/plain": [
       "True"
      ]
     },
     "execution_count": 10,
     "metadata": {},
     "output_type": "execute_result"
    }
   ],
   "source": [
    "with tf.Session() as sess:\n",
    "    saver.restore(sess, \"/tmp/my_model_final.ckpt\")\n",
    "    best_theta_restored = theta.eval()\n",
    "    \n",
    "np.allclose(best_theta, best_theta_restored)"
   ]
  },
  {
   "cell_type": "code",
   "execution_count": 11,
   "metadata": {},
   "outputs": [],
   "source": [
    "y_pred = (y_proba_val >= 0.5)"
   ]
  },
  {
   "cell_type": "code",
   "execution_count": 12,
   "metadata": {},
   "outputs": [
    {
     "data": {
      "text/plain": [
       "1.0"
      ]
     },
     "execution_count": 12,
     "metadata": {},
     "output_type": "execute_result"
    }
   ],
   "source": [
    "precision_score(y_test, y_pred)"
   ]
  },
  {
   "cell_type": "code",
   "execution_count": 13,
   "metadata": {},
   "outputs": [
    {
     "data": {
      "image/png": "[encoded data removed]",
      "text/plain": [
       "<Figure size 504x504 with 1 Axes>"
      ]
     },
     "metadata": {
      "needs_background": "light"
     },
     "output_type": "display_data"
    }
   ],
   "source": [
    "y_pred_idx = y_pred.reshape(-1) \n",
    "\n",
    "idx0 = np.argwhere(y_pred_idx == 0)\n",
    "idx1 = np.argwhere(y_pred_idx == 1)\n",
    "\n",
    "fig = plt.figure(figsize=(7,7))\n",
    "plt.plot(x_test[idx0,0], x_test[idx0,1], 'o', label='Class 0')\n",
    "plt.plot(x_test[idx1,0], x_test[idx1,1], 's', label='Class 1')\n",
    "plt.xlabel('$x_1$')\n",
    "plt.ylabel('$x_2$')\n",
    "plt.legend()\n",
    "plt.savefig('distribution_of_classes_for_train_set', dpi=600)\n",
    "plt.show()"
   ]
  }
 ],
 "metadata": {
  "kernelspec": {
   "display_name": "Python 3",
   "language": "python",
   "name": "python3"
  },
  "language_info": {
   "codemirror_mode": {
    "name": "ipython",
    "version": 3
   },
   "file_extension": ".py",
   "mimetype": "text/x-python",
   "name": "python",
   "nbconvert_exporter": "python",
   "pygments_lexer": "ipython3",
   "version": "3.7.3"
  }
 },
 "nbformat": 4,
 "nbformat_minor": 4
}
