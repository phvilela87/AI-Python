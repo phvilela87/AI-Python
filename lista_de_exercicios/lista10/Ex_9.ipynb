{
 "cells": [
  {
   "cell_type": "markdown",
   "metadata": {},
   "source": [
    "# Exercício 9"
   ]
  },
  {
   "cell_type": "code",
   "execution_count": 1,
   "metadata": {},
   "outputs": [],
   "source": [
    "import os\n",
    "import numpy as np\n",
    "import matplotlib.pyplot as plt\n",
    "import tensorflow.python.util.deprecation as deprecation\n",
    "import tensorflow.compat.v1 as tf\n",
    "from sklearn.datasets import make_moons\n",
    "from sklearn.model_selection import train_test_split\n",
    "from sklearn.metrics import precision_score, recall_score\n",
    "from datetime import datetime"
   ]
  },
  {
   "cell_type": "code",
   "execution_count": 2,
   "metadata": {},
   "outputs": [],
   "source": [
    "deprecation._PRINT_DEPRECATION_WARNINGS = False\n",
    "tf.disable_v2_behavior()\n",
    "tf.compat.v1.disable_resource_variables()"
   ]
  },
  {
   "cell_type": "code",
   "execution_count": 3,
   "metadata": {},
   "outputs": [],
   "source": [
    "def reset_graph(seed=42):\n",
    "    tf.reset_default_graph()\n",
    "    tf.set_random_seed(seed)\n",
    "    np.random.seed(seed)\n",
    "\n",
    "def log_dir(prefix=\"\"):\n",
    "    now = datetime.utcnow().strftime(\"%Y%m%d%H%M%S\")\n",
    "    root_logdir = \"tf_logs\"\n",
    "    if prefix:\n",
    "        prefix += \"-\"\n",
    "    name = prefix + \"run-\" + now\n",
    "    return \"{}/{}/\".format(root_logdir, name)\n",
    "\n",
    "def random_batch(X_train, y_train, batch_size):\n",
    "    rnd_indices = np.random.randint(0, len(X_train), batch_size)\n",
    "    X_batch = X_train[rnd_indices]\n",
    "    y_batch = y_train[rnd_indices]\n",
    "    return X_batch, y_batch"
   ]
  },
  {
   "cell_type": "code",
   "execution_count": 4,
   "metadata": {},
   "outputs": [],
   "source": [
    "reset_graph()"
   ]
  },
  {
   "cell_type": "code",
   "execution_count": 5,
   "metadata": {},
   "outputs": [],
   "source": [
    "N = 1000\n",
    "\n",
    "X, y = make_moons(N, noise=0.1, random_state=42)"
   ]
  },
  {
   "cell_type": "code",
   "execution_count": 6,
   "metadata": {},
   "outputs": [],
   "source": [
    "# Split array into random train and test subsets.\n",
    "x_train, x_test, y_train, y_test = train_test_split(X, y, test_size=0.2, random_state=23)\n",
    "\n",
    "x_test_original = x_test\n",
    "\n",
    "y_test_original = y_test\n",
    "\n",
    "x_train = np.c_[np.ones((len(y_train), 1)), x_train, x_train**2, x_train**3]\n",
    "\n",
    "x_test = np.c_[np.ones((len(y_test), 1)), x_test, x_test**2, x_test**3]"
   ]
  },
  {
   "cell_type": "code",
   "execution_count": 7,
   "metadata": {},
   "outputs": [],
   "source": [
    "n_inputs = len(x_test[0])\n",
    "\n",
    "learning_rate = 1\n",
    "\n",
    "logdir = log_dir(\"logreg\")\n",
    "\n",
    "X = tf.placeholder(tf.float32, shape=(None, n_inputs), name=\"X\")\n",
    "y = tf.placeholder(tf.float32, shape=(None, 1), name=\"y\")"
   ]
  },
  {
   "cell_type": "code",
   "execution_count": 8,
   "metadata": {},
   "outputs": [],
   "source": [
    "initializer = tf.random_uniform([n_inputs, 1], -1.0, 1.0, seed=42)\n",
    "theta = tf.Variable(initializer, name=\"theta\")\n",
    "matmul = tf.matmul(X, theta, name=\"logits\")\n",
    "y_proba = tf.sigmoid(matmul)"
   ]
  },
  {
   "cell_type": "code",
   "execution_count": 9,
   "metadata": {},
   "outputs": [],
   "source": [
    "loss = tf.losses.log_loss(y, y_proba, scope=\"loss\")\n",
    "optimizer = tf.train.GradientDescentOptimizer(learning_rate=learning_rate)\n",
    "training_op = optimizer.minimize(loss)\n",
    "loss_summary = tf.summary.scalar('log_loss', loss)"
   ]
  },
  {
   "cell_type": "code",
   "execution_count": 10,
   "metadata": {},
   "outputs": [],
   "source": [
    "init = tf.global_variables_initializer()"
   ]
  },
  {
   "cell_type": "code",
   "execution_count": 11,
   "metadata": {},
   "outputs": [],
   "source": [
    "saver = tf.train.Saver()"
   ]
  },
  {
   "cell_type": "code",
   "execution_count": 12,
   "metadata": {},
   "outputs": [],
   "source": [
    "file_writer = tf.summary.FileWriter(logdir, tf.get_default_graph())"
   ]
  },
  {
   "cell_type": "code",
   "execution_count": 13,
   "metadata": {},
   "outputs": [
    {
     "name": "stdout",
     "output_type": "stream",
     "text": [
      "Epoch: 0 \tLoss: 0.26660535\n",
      "Epoch: 500 \tLoss: 0.0073265494\n",
      "Epoch: 1000 \tLoss: 0.005124873\n",
      "Epoch: 1500 \tLoss: 0.0039951676\n",
      "Epoch: 2000 \tLoss: 0.003491174\n",
      "Epoch: 2500 \tLoss: 0.0030083745\n",
      "Epoch: 3000 \tLoss: 0.0026678029\n",
      "Epoch: 3500 \tLoss: 0.0028917952\n",
      "Epoch: 4000 \tLoss: 0.001994246\n",
      "Epoch: 4500 \tLoss: 0.0018936103\n",
      "Epoch: 5000 \tLoss: 0.0029547228\n",
      "Epoch: 5500 \tLoss: 0.0018544336\n",
      "Epoch: 6000 \tLoss: 0.0018256106\n",
      "Epoch: 6500 \tLoss: 0.0014895939\n",
      "Epoch: 7000 \tLoss: 0.0016037301\n",
      "Epoch: 7500 \tLoss: 0.0011625972\n",
      "Epoch: 8000 \tLoss: 0.0010917276\n",
      "Epoch: 8500 \tLoss: 0.0011236842\n",
      "Epoch: 9000 \tLoss: 0.001027707\n",
      "Epoch: 9500 \tLoss: 0.0011896181\n",
      "Epoch: 10000 \tLoss: 0.0010239404\n"
     ]
    }
   ],
   "source": [
    "n_epochs = 10001\n",
    "minibatch_size = 50\n",
    "n_batches = int(np.ceil(N / minibatch_size))\n",
    "\n",
    "save_path = \"/tmp/my_model.ckpt\"\n",
    "checkpoint_path = \"/tmp/my_logreg_model.ckpt\"\n",
    "checkpoint_epoch_path = checkpoint_path + \".epoch\"\n",
    "final_model_path = \"./my_logreg_model\"\n",
    "\n",
    "save_interval = 500\n",
    "\n",
    "with tf.Session() as sess:\n",
    "    if os.path.isfile(checkpoint_epoch_path):\n",
    "        # if there is a checkpoint file, restore model and load epoch\n",
    "        with open(checkpoint_epoch_path, \"rb\") as f:\n",
    "            initial_epoch = int(f.read())\n",
    "        print(\"Training was interrupted. Continuing at epoch\", initial_epoch)\n",
    "        saver.restore(sess, checkpoint_path)\n",
    "    else:\n",
    "        # if there is no checkpoint file, epoch is equal to zero\n",
    "        initial_epoch = 0\n",
    "        sess.run(init)\n",
    "        \n",
    "    y_test = y_test.reshape(-1, 1)\n",
    "    for epoch in range(initial_epoch, n_epochs):\n",
    "    \n",
    "        random_indices = np.random.randint(0, len(x_train), minibatch_size)\n",
    "        X_batch = x_train[random_indices]\n",
    "        y_batch = y_train[random_indices]\n",
    "            \n",
    "        y_batch = y_batch.reshape(-1, 1)\n",
    "        \n",
    "        for i in range(0, N, minibatch_size): \n",
    "            sess.run(training_op, feed_dict={X: X_batch, y: y_batch})\n",
    "            \n",
    "        loss_val, summary_str = sess.run([loss, loss_summary], feed_dict={X: x_test, y: y_test})\n",
    "        file_writer.add_summary(summary_str, epoch)\n",
    "        if epoch % save_interval == 0:\n",
    "            print(\"Epoch:\", epoch, \"\\tLoss:\", loss_val)\n",
    "            saver.save(sess, checkpoint_path)\n",
    "            with open(checkpoint_epoch_path, \"wb\") as f:\n",
    "                f.write(b\"%d\" % (epoch + 1))\n",
    "\n",
    "    saver.save(sess, final_model_path)\n",
    "    y_proba_val = y_proba.eval(feed_dict={X: x_test, y: y_test})\n",
    "    os.remove(checkpoint_epoch_path)"
   ]
  },
  {
   "cell_type": "code",
   "execution_count": 14,
   "metadata": {},
   "outputs": [],
   "source": [
    "# if greater than 0.5 is classified as another class\n",
    "y_pred = (y_proba_val >= 0.5)"
   ]
  },
  {
   "cell_type": "code",
   "execution_count": 15,
   "metadata": {},
   "outputs": [
    {
     "name": "stdout",
     "output_type": "stream",
     "text": [
      "1.0\n"
     ]
    }
   ],
   "source": [
    "print(precision_score(y_test, y_pred))"
   ]
  },
  {
   "cell_type": "code",
   "execution_count": 16,
   "metadata": {},
   "outputs": [],
   "source": [
    "y_pred = y_pred.reshape(-1)"
   ]
  },
  {
   "cell_type": "code",
   "execution_count": 17,
   "metadata": {},
   "outputs": [
    {
     "data": {
      "image/png": "[encoded data removed]",
      "text/plain": [
       "<Figure size 360x360 with 1 Axes>"
      ]
     },
     "metadata": {
      "needs_background": "light"
     },
     "output_type": "display_data"
    }
   ],
   "source": [
    "idx0 = np.argwhere(y_pred == False)\n",
    "idx1 = np.argwhere(y_pred == True)\n",
    "\n",
    "fig = plt.figure(figsize=(5,5))\n",
    "plt.plot(x_test_original[idx0,0], x_test_original[idx0,1], '.', label='Class 0')\n",
    "plt.plot(x_test_original[idx1,0], x_test_original[idx1,1], 'rx', label='Class 1')\n",
    "plt.xlabel('$x_1$')\n",
    "plt.ylabel('$x_2$')\n",
    "plt.title('a)')\n",
    "plt.legend()\n",
    "plt.show()"
   ]
  }
 ],
 "metadata": {
  "kernelspec": {
   "display_name": "Python 3",
   "language": "python",
   "name": "python3"
  },
  "language_info": {
   "codemirror_mode": {
    "name": "ipython",
    "version": 3
   },
   "file_extension": ".py",
   "mimetype": "text/x-python",
   "name": "python",
   "nbconvert_exporter": "python",
   "pygments_lexer": "ipython3",
   "version": "3.7.3"
  }
 },
 "nbformat": 4,
 "nbformat_minor": 4
}
