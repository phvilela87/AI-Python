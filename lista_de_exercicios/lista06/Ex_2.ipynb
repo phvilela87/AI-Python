{
 "cells": [
  {
   "cell_type": "markdown",
   "metadata": {},
   "source": [
    "# Exercício 2"
   ]
  },
  {
   "cell_type": "code",
   "execution_count": 1,
   "metadata": {},
   "outputs": [],
   "source": [
    "import numpy as np\n",
    "import matplotlib.pyplot as plt\n",
    "from matplotlib.colors import ListedColormap\n",
    "from sklearn.neighbors import KNeighborsClassifier\n",
    "from sklearn.model_selection import train_test_split\n",
    "from sklearn.datasets import make_blobs\n",
    "from sklearn.metrics import confusion_matrix, accuracy_score, roc_curve, auc, classification_report\n",
    "from sklearn.datasets import load_digits\n",
    "from sklearn import svm, datasets\n",
    "from sklearn.model_selection import GridSearchCV\n",
    "import seaborn as sns"
   ]
  },
  {
   "cell_type": "code",
   "execution_count": 2,
   "metadata": {},
   "outputs": [
    {
     "data": {
      "image/png": "[encoded data removed]",
      "text/plain": [
       "<Figure size 1440x360 with 10 Axes>"
      ]
     },
     "metadata": {
      "needs_background": "light"
     },
     "output_type": "display_data"
    }
   ],
   "source": [
    "digits = load_digits()\n",
    "\n",
    "# Plot some digits from the data-set.\n",
    "plt.figure(figsize=(20, 5))\n",
    "for i in range(0,10):\n",
    "    ax = plt.subplot(1, 10, i+1)\n",
    "    plt.imshow(digits.images[i], cmap=plt.cm.gray_r, interpolation='nearest')\n",
    "    plt.title('Training: %i' % digits.target[i])\n",
    "plt.show()\n",
    "\n",
    "# To apply a classifier on this data, we need to flatten the image, to turn the data in a (samples, feature) matrix:\n",
    "n_samples = len(digits.images)\n",
    "data = digits.images.reshape((n_samples, -1))\n",
    "\n",
    "# Split data into train and test subsets.\n",
    "x_train, x_test, y_train, y_test = train_test_split(data, digits.target, test_size=0.2, shuffle=False)"
   ]
  },
  {
   "cell_type": "code",
   "execution_count": 3,
   "metadata": {},
   "outputs": [
    {
     "name": "stdout",
     "output_type": "stream",
     "text": [
      "Fitting 10 folds for each of 16 candidates, totalling 160 fits\n"
     ]
    },
    {
     "name": "stderr",
     "output_type": "stream",
     "text": [
      "[Parallel(n_jobs=-1)]: Using backend LokyBackend with 4 concurrent workers.\n",
      "[Parallel(n_jobs=-1)]: Done   5 tasks      | elapsed:    1.3s\n",
      "[Parallel(n_jobs=-1)]: Done  10 tasks      | elapsed:    1.4s\n",
      "[Parallel(n_jobs=-1)]: Done  17 tasks      | elapsed:    1.5s\n",
      "[Parallel(n_jobs=-1)]: Batch computation too fast (0.1897s.) Setting batch_size=2.\n",
      "[Parallel(n_jobs=-1)]: Done  24 tasks      | elapsed:    1.6s\n",
      "[Parallel(n_jobs=-1)]: Batch computation too fast (0.1811s.) Setting batch_size=4.\n",
      "[Parallel(n_jobs=-1)]: Done  38 tasks      | elapsed:    1.9s\n",
      "[Parallel(n_jobs=-1)]: Done  68 tasks      | elapsed:    2.4s\n",
      "[Parallel(n_jobs=-1)]: Done 112 tasks      | elapsed:    3.1s\n",
      "[Parallel(n_jobs=-1)]: Done 160 out of 160 | elapsed:    3.7s finished\n"
     ]
    },
    {
     "data": {
      "text/plain": [
       "GridSearchCV(cv=10, estimator=KNeighborsClassifier(), n_jobs=-1,\n",
       "             param_grid={'n_neighbors': [1, 2, 3, 4, 5, 10, 15, 20],\n",
       "                         'weights': ('uniform', 'distance')},\n",
       "             verbose=10)"
      ]
     },
     "execution_count": 3,
     "metadata": {},
     "output_type": "execute_result"
    }
   ],
   "source": [
    "parameters = {'weights':('uniform', 'distance'), 'n_neighbors':[1, 2, 3, 4, 5, 10, 15, 20]}\n",
    "clf = KNeighborsClassifier()\n",
    "\n",
    "# Train the classifier.\n",
    "clf.fit(x_train, y_train)\n",
    "# Predict.\n",
    "y_pred = clf.predict(x_test)\n",
    "\n",
    "clf = GridSearchCV(clf, parameters, cv=10, verbose=10, n_jobs=-1)\n",
    "clf.fit(digits.data, digits.target)\n",
    "#sorted(clf.cv_results_.keys())\n",
    "# print(clf.best_params_)\n",
    "# print(clf.best_score_)"
   ]
  },
  {
   "cell_type": "code",
   "execution_count": 4,
   "metadata": {},
   "outputs": [
    {
     "data": {
      "image/png": "[encoded data removed]",
      "text/plain": [
       "<Figure size 360x360 with 1 Axes>"
      ]
     },
     "metadata": {
      "needs_background": "light"
     },
     "output_type": "display_data"
    }
   ],
   "source": [
    "# Plot the confusion matrix.\n",
    "fig = plt.figure(figsize=(5,5))\n",
    "mat = confusion_matrix(y_test, y_pred)\n",
    "sns.set()\n",
    "sns.heatmap(mat.T, square=True, annot=True, fmt='d', cbar=False, xticklabels=['0','1', '2', '3', '4', '5', '6', '7', '8', '9'], yticklabels=['0','1', '2', '3', '4', '5', '6', '7', '8', '9'], cmap=\"Blues\")\n",
    "plt.xlabel('true label')\n",
    "plt.ylabel('predicted label')\n",
    "plt.savefig('confusion_matrix.png', dpi=600)\n",
    "plt.show()"
   ]
  },
  {
   "cell_type": "code",
   "execution_count": 5,
   "metadata": {},
   "outputs": [
    {
     "name": "stdout",
     "output_type": "stream",
     "text": [
      "              precision    recall  f1-score   support\n",
      "\n",
      "           0       1.00      0.97      0.99        35\n",
      "           1       0.95      1.00      0.97        36\n",
      "           2       0.97      1.00      0.99        35\n",
      "           3       0.97      0.89      0.93        37\n",
      "           4       0.97      0.95      0.96        37\n",
      "           5       0.93      1.00      0.96        37\n",
      "           6       1.00      1.00      1.00        37\n",
      "           7       0.92      1.00      0.96        36\n",
      "           8       0.94      0.91      0.92        33\n",
      "           9       1.00      0.92      0.96        37\n",
      "\n",
      "    accuracy                           0.96       360\n",
      "   macro avg       0.96      0.96      0.96       360\n",
      "weighted avg       0.97      0.96      0.96       360\n",
      "\n"
     ]
    }
   ],
   "source": [
    "# Print classification report.\n",
    "print(classification_report(y_test, y_pred))"
   ]
  }
 ],
 "metadata": {
  "kernelspec": {
   "display_name": "Python 3",
   "language": "python",
   "name": "python3"
  },
  "language_info": {
   "codemirror_mode": {
    "name": "ipython",
    "version": 3
   },
   "file_extension": ".py",
   "mimetype": "text/x-python",
   "name": "python",
   "nbconvert_exporter": "python",
   "pygments_lexer": "ipython3",
   "version": "3.7.3"
  }
 },
 "nbformat": 4,
 "nbformat_minor": 2
}
