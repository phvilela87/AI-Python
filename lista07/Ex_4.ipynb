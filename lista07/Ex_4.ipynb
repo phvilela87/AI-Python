{
 "cells": [
  {
   "cell_type": "markdown",
   "metadata": {},
   "source": [
    "# Execício 4"
   ]
  },
  {
   "cell_type": "code",
   "execution_count": 1,
   "metadata": {},
   "outputs": [],
   "source": [
    "import numpy as np\n",
    "import matplotlib.pyplot as plt\n",
    "from matplotlib.colors import ListedColormap\n",
    "from sklearn.datasets import make_moons\n",
    "from sklearn.tree import DecisionTreeClassifier\n",
    "from sklearn import tree\n",
    "from sklearn.datasets import make_classification\n",
    "from sklearn.model_selection import train_test_split\n",
    "from sklearn.metrics import confusion_matrix, accuracy_score, roc_curve, auc, classification_report\n",
    "import seaborn as sns\n",
    "from IPython.display import Image  \n",
    "#from sklearn.externals.six import StringIO  \n",
    "from sklearn.model_selection import GridSearchCV\n",
    "from sklearn.model_selection import ShuffleSplit"
   ]
  },
  {
   "cell_type": "code",
   "execution_count": 2,
   "metadata": {},
   "outputs": [
    {
     "data": {
      "text/plain": [
       "1000"
      ]
     },
     "execution_count": 2,
     "metadata": {},
     "output_type": "execute_result"
    }
   ],
   "source": [
    "x, y = make_moons(n_samples = 10000, noise = 0.4, random_state=42)\n",
    "\n",
    "# Split array into random train and test subsets.\n",
    "x_train, x_test, y_train, y_test = train_test_split(x, y, test_size=0.25, random_state=42)\n",
    "\n",
    "# Split data\n",
    "sub_con = ShuffleSplit(n_splits=1000, train_size=100, random_state=42)\n",
    "sub_con.get_n_splits(x_train)"
   ]
  },
  {
   "cell_type": "code",
   "execution_count": 3,
   "metadata": {},
   "outputs": [],
   "source": [
    "n_train = 1\n",
    "dtcs = []\n",
    "\n",
    "for train_index, test_index in sub_con.split(x_train):\n",
    "    # print(\"train #\" + str(n_train))\n",
    "    n_train = n_train + 1\n",
    "    \n",
    "    dtc = DecisionTreeClassifier(criterion='gini', max_depth = None, max_leaf_nodes = 25)\n",
    "    dtc.fit(x_train[train_index], y_train[train_index])\n",
    "    \n",
    "    dtcs.append(dtc)"
   ]
  },
  {
   "cell_type": "code",
   "execution_count": 4,
   "metadata": {},
   "outputs": [
    {
     "name": "stdout",
     "output_type": "stream",
     "text": [
      "0.8676\n"
     ]
    }
   ],
   "source": [
    "frequence = [(0, 0)]*(len(x_test))\n",
    "\n",
    "for i in range(len(dtcs)):\n",
    "    y_pred = dtcs[i].predict(x_test)\n",
    "    for j in range(len(x_test)):\n",
    "        fs = frequence[j][0]\n",
    "        sc = frequence[j][1]\n",
    "        if( y_pred[j] == 0 ) : fs = fs + 1\n",
    "        if( y_pred[j] == 1 ) : sc = sc + 1\n",
    "        frequence[j] = (fs, sc)\n",
    "        \n",
    "y_pred = np.zeros(len(y_test))\n",
    "for i in range(len(x_test)):\n",
    "    fs = frequence[i][0]\n",
    "    sc = frequence[i][1]\n",
    "    if( fs >= sc ) : y_pred[i] = 0\n",
    "    else : y_pred[i]= 1\n",
    "\n",
    "accuracy = accuracy_score(y_test, y_pred) \n",
    "print(accuracy)"
   ]
  }
 ],
 "metadata": {
  "kernelspec": {
   "display_name": "Python 3",
   "language": "python",
   "name": "python3"
  },
  "language_info": {
   "codemirror_mode": {
    "name": "ipython",
    "version": 3
   },
   "file_extension": ".py",
   "mimetype": "text/x-python",
   "name": "python",
   "nbconvert_exporter": "python",
   "pygments_lexer": "ipython3",
   "version": "3.7.4"
  }
 },
 "nbformat": 4,
 "nbformat_minor": 2
}
