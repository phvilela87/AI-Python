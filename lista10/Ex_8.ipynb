{
 "cells": [
  {
   "cell_type": "markdown",
   "metadata": {},
   "source": [
    "# Exercício 8"
   ]
  },
  {
   "cell_type": "code",
   "execution_count": 1,
   "metadata": {},
   "outputs": [],
   "source": [
    "import tensorflow.python.util.deprecation as deprecation\n",
    "import tensorflow.compat.v1 as tf"
   ]
  },
  {
   "cell_type": "code",
   "execution_count": 2,
   "metadata": {},
   "outputs": [],
   "source": [
    "deprecation._PRINT_DEPRECATION_WARNINGS = False\n",
    "tf.disable_v2_behavior()"
   ]
  },
  {
   "cell_type": "code",
   "execution_count": 3,
   "metadata": {},
   "outputs": [
    {
     "name": "stdout",
     "output_type": "stream",
     "text": [
      "0.5536829\n",
      "33.0\n"
     ]
    }
   ],
   "source": [
    "x = tf.Variable(tf.random.uniform(shape=()))\n",
    "new_x = tf.placeholder(shape=(), dtype=tf.float32)\n",
    "x_assign = tf.assign(x, new_x)\n",
    "\n",
    "with tf.Session():\n",
    "    x.initializer.run()\n",
    "    print(x.eval())\n",
    "    x_assign.eval(feed_dict={new_x: 33.0})\n",
    "    print(x.eval())"
   ]
  }
 ],
 "metadata": {
  "kernelspec": {
   "display_name": "Python 3",
   "language": "python",
   "name": "python3"
  },
  "language_info": {
   "codemirror_mode": {
    "name": "ipython",
    "version": 3
   },
   "file_extension": ".py",
   "mimetype": "text/x-python",
   "name": "python",
   "nbconvert_exporter": "python",
   "pygments_lexer": "ipython3",
   "version": "3.7.3"
  }
 },
 "nbformat": 4,
 "nbformat_minor": 4
}
