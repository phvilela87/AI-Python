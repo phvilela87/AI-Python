{
 "cells": [
  {
   "cell_type": "markdown",
   "metadata": {},
   "source": [
    "# Exercício 1"
   ]
  },
  {
   "cell_type": "code",
   "execution_count": 1,
   "metadata": {},
   "outputs": [],
   "source": [
    "import numpy as np\n",
    "import matplotlib.pyplot as plt\n",
    "from sklearn.datasets import load_digits\n",
    "from matplotlib.colors import ListedColormap\n",
    "from sklearn.neighbors import KNeighborsClassifier\n",
    "from sklearn.model_selection import train_test_split\n",
    "from sklearn.datasets import make_blobs\n",
    "from sklearn.metrics import confusion_matrix, accuracy_score, roc_curve, auc, classification_report\n",
    "from sklearn import svm, datasets\n",
    "from math import sqrt\n",
    "import seaborn as sns"
   ]
  },
  {
   "cell_type": "code",
   "execution_count": 2,
   "metadata": {},
   "outputs": [],
   "source": [
    "# calculate the Euclidean distance between two vectors\n",
    "def euclidean_distance(row1, row2):\n",
    "    distance = 0.0\n",
    "    for i in range(len(row1)-1):\n",
    "        distance += (row1[i] - row2[i])**2\n",
    "    return sqrt(distance)\n",
    "\n",
    "dataset_xtrain = [ [4, 7],\n",
    "                 [5, 6], \n",
    "                 [3, 4], \n",
    "                 [6, 9], \n",
    "                 [6, 4], \n",
    "                 [7, 6], \n",
    "                 [8, 0], \n",
    "                 [10, 10], \n",
    "                 [12, 3] ]\n",
    "dataset_ytrain = [ [0], \n",
    "                  [0], \n",
    "                  [0], \n",
    "                  [0], \n",
    "                  [1], \n",
    "                  [1], \n",
    "                  [1], \n",
    "                  [1], \n",
    "                  [1] ]\n",
    "\n",
    "\n",
    "dataset_xval = [ [6, 5] ]"
   ]
  },
  {
   "cell_type": "code",
   "execution_count": 3,
   "metadata": {},
   "outputs": [
    {
     "name": "stdout",
     "output_type": "stream",
     "text": [
      "[(0.0, 3), (0.0, 4), (1.0, 1), (1.0, 5), (2.0, 0), (2.0, 6), (3.0, 2), (4.0, 7), (6.0, 8)]\n",
      "\n",
      "\n",
      "[2. 1.]\n"
     ]
    }
   ],
   "source": [
    "k = 3\n",
    "\n",
    "dist_calc = [(0, 0)]*len(dataset_xtrain)\n",
    "\n",
    "for i in range(len(dataset_xtrain)):\n",
    "    \n",
    "    #Calculado a distância entre o valor da amostra de treinamento e de validação\n",
    "    distance = euclidean_distance(dataset_xtrain[i], dataset_xval[0]) \n",
    "    \n",
    "    dist_calc[i] = (distance, i)\n",
    "\n",
    "#Distâncias organizadas em ordem crescente    \n",
    "dist_calc.sort(key=lambda tup: tup[0])\n",
    "\n",
    "print(dist_calc)\n",
    "\n",
    "#inicialização do vetor \n",
    "count = np.zeros(2)\n",
    "\n",
    "for i in range(k):\n",
    "    count[ dataset_ytrain[ dist_calc[i][1]] ] = count[ dataset_ytrain[dist_calc[i][1]] ]+1\n",
    "\n",
    "print('\\n')\n",
    "print(count)"
   ]
  },
  {
   "cell_type": "code",
   "execution_count": 4,
   "metadata": {},
   "outputs": [
    {
     "name": "stdout",
     "output_type": "stream",
     "text": [
      "[(0.0, 3), (0.0, 4), (1.0, 1), (1.0, 5), (2.0, 0), (2.0, 6), (3.0, 2), (4.0, 7), (6.0, 8)]\n",
      "\n",
      "\n",
      "[3. 2.]\n"
     ]
    }
   ],
   "source": [
    "k = 5\n",
    "\n",
    "dist_calc = [(0, 0)]*len(dataset_xtrain)\n",
    "\n",
    "for i in range(len(dataset_xtrain)):\n",
    "    \n",
    "    #Calculado a distância entre o valor da amostra de treinamento e de validação\n",
    "    distance = euclidean_distance(dataset_xtrain[i], dataset_xval[0]) \n",
    "    \n",
    "    dist_calc[i] = (distance, i)\n",
    "\n",
    "#Distâncias organizadas em ordem crescente    \n",
    "dist_calc.sort(key=lambda tup: tup[0])\n",
    "\n",
    "print(dist_calc)\n",
    "\n",
    "#inicialização do vetor \n",
    "count = np.zeros(2)\n",
    "\n",
    "for i in range(k):\n",
    "    count[ dataset_ytrain[ dist_calc[i][1]] ] = count[ dataset_ytrain[dist_calc[i][1]] ]+1\n",
    "\n",
    "print('\\n')\n",
    "print(count)"
   ]
  },
  {
   "cell_type": "code",
   "execution_count": 5,
   "metadata": {},
   "outputs": [
    {
     "name": "stdout",
     "output_type": "stream",
     "text": [
      "[1.]\n",
      "[1.]\n"
     ]
    }
   ],
   "source": [
    "x = np.zeros((len(dataset_xtrain), 2))\n",
    "y = np.zeros((len(dataset_xtrain), 1))\n",
    "\n",
    "for i in range(len(dataset_xtrain)):\n",
    "    x[i] = dataset_xtrain[i]\n",
    "    y[i] = dataset_ytrain[i]\n",
    "    \n",
    "y = y.ravel()\n",
    "\n",
    "for k in [3, 5]:\n",
    "    clf = KNeighborsClassifier(k, weights='distance')\n",
    "    clf.fit(x, y)\n",
    "\n",
    "    Z = clf.predict(dataset_xval)\n",
    "    print(Z)"
   ]
  }
 ],
 "metadata": {
  "kernelspec": {
   "display_name": "Python 3",
   "language": "python",
   "name": "python3"
  },
  "language_info": {
   "codemirror_mode": {
    "name": "ipython",
    "version": 3
   },
   "file_extension": ".py",
   "mimetype": "text/x-python",
   "name": "python",
   "nbconvert_exporter": "python",
   "pygments_lexer": "ipython3",
   "version": "3.7.4"
  }
 },
 "nbformat": 4,
 "nbformat_minor": 2
}
