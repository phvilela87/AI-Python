{
 "cells": [
  {
   "cell_type": "markdown",
   "metadata": {},
   "source": [
    "# Exercício 7"
   ]
  },
  {
   "cell_type": "code",
   "execution_count": 1,
   "metadata": {},
   "outputs": [],
   "source": [
    "import pandas as pd\n",
    "import numpy as np\n",
    "import matplotlib.pyplot as plt\n",
    "import seaborn as sns\n",
    "from matplotlib.colors import ListedColormap\n",
    "from sklearn.preprocessing import LabelEncoder, StandardScaler \n",
    "from sklearn.linear_model import Perceptron\n",
    "from sklearn.neural_network import MLPClassifier\n",
    "from sklearn.model_selection import train_test_split\n",
    "from sklearn.metrics import accuracy_score\n",
    "from sklearn.metrics import confusion_matrix, accuracy_score"
   ]
  },
  {
   "cell_type": "code",
   "execution_count": 2,
   "metadata": {},
   "outputs": [],
   "source": [
    "# Setting random seed.\n",
    "seed = 10"
   ]
  },
  {
   "cell_type": "code",
   "execution_count": 3,
   "metadata": {},
   "outputs": [
    {
     "name": "stdout",
     "output_type": "stream",
     "text": [
      "Perceptron's XOR scores: [-0.1 -0.2 -0.1 -0.2]\n"
     ]
    }
   ],
   "source": [
    "# Setting the input samples.\n",
    "X = np.array([[0, 0], [0, 1], [1, 0], [1, 1]], dtype=np.double)\n",
    "\n",
    "# Setting the expected outputs.\n",
    "y_XOR = np.array([0, 1, 1, 0])\n",
    "\n",
    "# Creating and training a Perceptron.\n",
    "p = Perceptron(random_state=seed, eta0=0.1, max_iter=1000) \n",
    "p.fit(X, y_XOR)\n",
    "\n",
    "# Obtaining f(x) scores.\n",
    "pred_scores = p.decision_function(X)\n",
    "print(\"Perceptron's XOR scores: {}\".format(pred_scores))"
   ]
  },
  {
   "cell_type": "code",
   "execution_count": 4,
   "metadata": {},
   "outputs": [],
   "source": [
    "# Method to plot the Perceptron's decision boundary.\n",
    "# This code is based on http://scikit-learn.org/stable/auto_examples/classification/plot_classifier_comparison.html \n",
    "def plot_decision_boundary(classifier, X, y, title):\n",
    "    xmin, xmax = np.min(X[:, 0]) - 0.05, np.max(X[:, 0]) + 0.05 \n",
    "    ymin, ymax = np.min(X[:, 1]) - 0.05, np.max(X[:, 1]) + 0.05 \n",
    "    step = 0.01\n",
    "    cm = plt.cm.coolwarm_r #cm = plt.cm.RdBu\n",
    "    thr = 0.0\n",
    "    xx, yy = np.meshgrid(np.arange(xmin - thr, xmax + thr, step), np.arange(ymin - thr, ymax + thr, step))\n",
    "    if hasattr(classifier, 'decision_function'):\n",
    "        Z = classifier.decision_function(np.hstack((xx.ravel()[:, np.newaxis], yy.ravel()[:, np.newaxis])))\n",
    "    else:\n",
    "        Z = classifier.predict_proba(np.hstack((xx.ravel()[:, np.newaxis], yy.ravel()[:, np.newaxis])))[:, 1]\n",
    "    Z = Z.reshape(xx.shape)\n",
    "    plt.contourf(xx, yy, Z, cmap=cm, alpha=0.8)\n",
    "    plt.colorbar()\n",
    "    plt.scatter(X[:, 0], X[:, 1], c=y, cmap=ListedColormap(['#FF0000', '#0000FF']), alpha=0.6)\n",
    "    plt.xlim(xmin, xmax) \n",
    "    plt.ylim(ymin, ymax)\n",
    "    plt.xticks((0.0, 1.0)) \n",
    "    plt.yticks((0.0, 1.0))\n",
    "    plt.title(title)"
   ]
  },
  {
   "cell_type": "code",
   "execution_count": 5,
   "metadata": {},
   "outputs": [
    {
     "data": {
      "image/png": "[encoded data removed]",
      "text/plain": [
       "<Figure size 432x288 with 2 Axes>"
      ]
     },
     "metadata": {
      "needs_background": "light"
     },
     "output_type": "display_data"
    },
    {
     "name": "stdout",
     "output_type": "stream",
     "text": [
      "MLP's XOR probabilities:\n",
      "[class0, class1]\n",
      "[[0.90824236 0.09175764]\n",
      " [0.08283202 0.91716798]\n",
      " [0.04569506 0.95430494]\n",
      " [0.95730544 0.04269456]]\n"
     ]
    }
   ],
   "source": [
    " # Creating a MLPClassifier.\n",
    "# hidden_layer_sizes receive a tuple where each position i indicates the number of neurons\n",
    "# in the ith hidden layer\n",
    "# activation specifies the activation function (other options are: 'identity', 'logistic' and 'relu') \n",
    "# max_iter indicates the maximum number of training iterations\n",
    "# There are other parameters which can also be changed.\n",
    "# See http://scikit-learn.org/stable/modules/generated/sklearn.neural_network.MLPClassifier.html\n",
    "\n",
    "mlp = MLPClassifier(hidden_layer_sizes=(5,), activation='tanh', max_iter=10000, random_state=seed)\n",
    "\n",
    "# Training and plotting the decision boundary.\n",
    "mlp.fit(X, y_XOR) \n",
    "plot_decision_boundary(mlp, X, y_XOR, 'XOR') \n",
    "plt.show()\n",
    "\n",
    "pred = mlp.predict_proba(X)\n",
    "print(\"MLP's XOR probabilities:\\n[class0, class1]\\n{}\".format(pred))"
   ]
  }
 ],
 "metadata": {
  "kernelspec": {
   "display_name": "Python 3",
   "language": "python",
   "name": "python3"
  },
  "language_info": {
   "codemirror_mode": {
    "name": "ipython",
    "version": 3
   },
   "file_extension": ".py",
   "mimetype": "text/x-python",
   "name": "python",
   "nbconvert_exporter": "python",
   "pygments_lexer": "ipython3",
   "version": "3.7.3"
  }
 },
 "nbformat": 4,
 "nbformat_minor": 4
}
