{
 "cells": [
  {
   "cell_type": "markdown",
   "metadata": {},
   "source": [
    "# Exercício 2"
   ]
  },
  {
   "cell_type": "code",
   "execution_count": 1,
   "metadata": {},
   "outputs": [],
   "source": [
    "import pandas as pd\n",
    "import numpy as np\n",
    "from sklearn.naive_bayes import BernoulliNB\n",
    "from sklearn.naive_bayes import MultinomialNB\n",
    "from sklearn.feature_extraction.text import CountVectorizer\n",
    "from sklearn.model_selection import train_test_split\n",
    "from sklearn import metrics\n",
    "from sklearn.metrics import confusion_matrix\n",
    "from sklearn.metrics import accuracy_score, roc_curve, auc\n",
    "import seaborn as sns\n",
    "import matplotlib.pyplot as plt"
   ]
  },
  {
   "cell_type": "code",
   "execution_count": 2,
   "metadata": {},
   "outputs": [],
   "source": [
    "\"\"\"\n",
    "MIT  -> <= 30\n",
    "TUAQ -> 31 a 40\n",
    "MQ   -> > 40\n",
    "\"\"\"\n",
    "x_train = np.array(['MIT Alta Nao Boa',\n",
    "                    'MIT Alta Nao Excelente',\n",
    "                    'TUAQ Alta Nao Boa',\n",
    "                    'MQ Media Nao Boa',\n",
    "                    'MQ Baixa Sim Boa',\n",
    "                    'MQ Baixa Sim Excelente',\n",
    "                    'TUAQ Baixa Sim Excelente',\n",
    "                    'MIT Media Nao Boa',\n",
    "                    'MIT Baixa Sim Boa',\n",
    "                    'MQ Media Sim Boa',\n",
    "                    'MIT Media Sim Excelente',\n",
    "                    'TUAQ Media Nao Excelente',\n",
    "                    'TUAQ Alta Sim Boa',\n",
    "                    'MQ Media Nao Excelente',])\n",
    "\n",
    "y_train = np.array(['Nao','Nao','Sim','Sim','Sim','Nao', 'Sim', 'Nao', 'Sim', 'Sim', 'Sim', 'Sim', 'Sim', 'Nao'])\n",
    "\n",
    "x_test = np.array(['MIT Media Sim Boa'])"
   ]
  },
  {
   "cell_type": "code",
   "execution_count": 3,
   "metadata": {},
   "outputs": [],
   "source": [
    "# Instantiate a CountVectorizer object.\n",
    "vect = CountVectorizer()"
   ]
  },
  {
   "cell_type": "code",
   "execution_count": 4,
   "metadata": {},
   "outputs": [
    {
     "name": "stdout",
     "output_type": "stream",
     "text": [
      "['alta', 'baixa', 'boa', 'excelente', 'media', 'mit', 'mq', 'nao', 'sim', 'tuaq']\n",
      "[[1 0 1 0 0 1 0 1 0 0]\n",
      " [1 0 0 1 0 1 0 1 0 0]\n",
      " [1 0 1 0 0 0 0 1 0 1]\n",
      " [0 0 1 0 1 0 1 1 0 0]\n",
      " [0 1 1 0 0 0 1 0 1 0]\n",
      " [0 1 0 1 0 0 1 0 1 0]\n",
      " [0 1 0 1 0 0 0 0 1 1]\n",
      " [0 0 1 0 1 1 0 1 0 0]\n",
      " [0 1 1 0 0 1 0 0 1 0]\n",
      " [0 0 1 0 1 0 1 0 1 0]\n",
      " [0 0 0 1 1 1 0 0 1 0]\n",
      " [0 0 0 1 1 0 0 1 0 1]\n",
      " [1 0 1 0 0 0 0 0 1 1]\n",
      " [0 0 0 1 1 0 1 1 0 0]]\n"
     ]
    }
   ],
   "source": [
    "# Fit and transform X_train into x_train_dtm (document-term matrices - dtm).\n",
    "x_train_dtm = vect.fit_transform(x_train)\n",
    "\n",
    "print(vect.get_feature_names())\n",
    "print(x_train_dtm.toarray())"
   ]
  },
  {
   "cell_type": "code",
   "execution_count": 5,
   "metadata": {},
   "outputs": [
    {
     "name": "stdout",
     "output_type": "stream",
     "text": [
      "[[0 0 1 0 1 1 0 0 1 0]]\n"
     ]
    }
   ],
   "source": [
    "# Transform X_test into X_test_dtm.\n",
    "x_test_dtm = vect.transform(x_test)\n",
    "\n",
    "print(x_test_dtm.toarray())"
   ]
  },
  {
   "cell_type": "code",
   "execution_count": 6,
   "metadata": {},
   "outputs": [],
   "source": [
    "# Instantiate a Multinomial Naive Bayes model.\n",
    "model = MultinomialNB()"
   ]
  },
  {
   "cell_type": "code",
   "execution_count": 7,
   "metadata": {},
   "outputs": [
    {
     "data": {
      "text/plain": [
       "MultinomialNB()"
      ]
     },
     "execution_count": 7,
     "metadata": {},
     "output_type": "execute_result"
    }
   ],
   "source": [
    "# train the model using X_train_dtm\n",
    "model.fit(x_train_dtm, y_train)"
   ]
  },
  {
   "cell_type": "code",
   "execution_count": 8,
   "metadata": {},
   "outputs": [],
   "source": [
    "y_pred_class = model.predict(x_test_dtm)"
   ]
  },
  {
   "cell_type": "code",
   "execution_count": 9,
   "metadata": {},
   "outputs": [
    {
     "name": "stdout",
     "output_type": "stream",
     "text": [
      "['Sim']\n"
     ]
    }
   ],
   "source": [
    "print(y_pred_class)"
   ]
  },
  {
   "cell_type": "code",
   "execution_count": 10,
   "metadata": {},
   "outputs": [
    {
     "name": "stdout",
     "output_type": "stream",
     "text": [
      "[[0.23125915 0.76874085]]\n"
     ]
    }
   ],
   "source": [
    "print(model.predict_proba(x_test_dtm))"
   ]
  },
  {
   "cell_type": "markdown",
   "metadata": {},
   "source": [
    "# Resposta"
   ]
  },
  {
   "cell_type": "markdown",
   "metadata": {},
   "source": [
    "Probabilidade de comprar: 0.76874085  \n",
    "Probabilidade de não comprar: 0.23125915\n",
    "\n",
    "Sim. Esta pessoa compraria o PC."
   ]
  }
 ],
 "metadata": {
  "kernelspec": {
   "display_name": "Python 3",
   "language": "python",
   "name": "python3"
  },
  "language_info": {
   "codemirror_mode": {
    "name": "ipython",
    "version": 3
   },
   "file_extension": ".py",
   "mimetype": "text/x-python",
   "name": "python",
   "nbconvert_exporter": "python",
   "pygments_lexer": "ipython3",
   "version": "3.7.3"
  }
 },
 "nbformat": 4,
 "nbformat_minor": 2
}
