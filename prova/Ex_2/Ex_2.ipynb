{
 "cells": [
  {
   "cell_type": "markdown",
   "metadata": {},
   "source": [
    "# Exercício 2"
   ]
  },
  {
   "cell_type": "code",
   "execution_count": 1,
   "metadata": {},
   "outputs": [],
   "source": [
    "import math"
   ]
  },
  {
   "cell_type": "code",
   "execution_count": 2,
   "metadata": {},
   "outputs": [
    {
     "name": "stdout",
     "output_type": "stream",
     "text": [
      "Probabilidade de comprar:  0.645267489711934\n",
      "Probabilidade de não comprar:  0.15680000000000002\n"
     ]
    }
   ],
   "source": [
    "x = ((2/9) * (4/9) * (6/9) * (6/9) * (9/14)) / ((5/14) * (6/14) * (7/14) * (8/14))\n",
    "y = ((3/5) * (2/5) * (1/5) * (2/5) * (5/14)) / ((5/14) * (6/14) * (7/14) * (8/14))\n",
    "\n",
    "print('Probabilidade de comprar: ', x)\n",
    "print('Probabilidade de não comprar: ',y)"
   ]
  }
 ],
 "metadata": {
  "kernelspec": {
   "display_name": "Python 3",
   "language": "python",
   "name": "python3"
  },
  "language_info": {
   "codemirror_mode": {
    "name": "ipython",
    "version": 3
   },
   "file_extension": ".py",
   "mimetype": "text/x-python",
   "name": "python",
   "nbconvert_exporter": "python",
   "pygments_lexer": "ipython3",
   "version": "3.7.3"
  }
 },
 "nbformat": 4,
 "nbformat_minor": 4
}
